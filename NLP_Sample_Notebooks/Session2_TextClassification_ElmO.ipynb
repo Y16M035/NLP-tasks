{
  "nbformat": 4,
  "nbformat_minor": 0,
  "metadata": {
    "colab": {
      "name": "Session2_TextClassification_ElmO.ipynb",
      "provenance": [],
      "collapsed_sections": [],
      "toc_visible": true
    },
    "kernelspec": {
      "name": "python3",
      "display_name": "Python 3"
    },
    "accelerator": "GPU"
  },
  "cells": [
    {
      "cell_type": "markdown",
      "metadata": {
        "id": "bxul0OTr8BrZ"
      },
      "source": [
        "# ElmO + Feed Forward Network\n",
        "\n",
        "For this example, we will use the same corpus composed by movie plots. However, for this task we are only employing a subset of movie plots: only those which correspond to either comedy, drama or western movies. Thus, our goal in this example is to classify movie plots in these three genres.\n",
        "\n"
      ]
    },
    {
      "cell_type": "markdown",
      "metadata": {
        "id": "4zjyFGUajhuk"
      },
      "source": [
        "## Getting and preprocessing the data"
      ]
    },
    {
      "cell_type": "markdown",
      "metadata": {
        "id": "evZrOgRQjeAv"
      },
      "source": [
        "As we previously did, the first step is to download our data file:"
      ]
    },
    {
      "cell_type": "code",
      "metadata": {
        "id": "w_1nuvxp79gp",
        "colab": {
          "base_uri": "https://localhost:8080/",
          "height": 111
        },
        "outputId": "d99dcb98-106e-4912-d7b1-cdc6eeacc163"
      },
      "source": [
        "import gdown\n",
        "\n",
        "url = 'https://drive.google.com/uc?id=11jqauk7PopBpC88bR2jzTBNQdIVQZ0e4'\n",
        "output = \"movie_plots_tc.csv\"\n",
        "gdown.download(url, output, quiet=False)"
      ],
      "execution_count": null,
      "outputs": [
        {
          "output_type": "stream",
          "text": [
            "Downloading...\n",
            "From: https://drive.google.com/uc?id=11jqauk7PopBpC88bR2jzTBNQdIVQZ0e4\n",
            "To: /content/movie_plots_tc.csv\n",
            "21.9MB [00:00, 219MB/s]\n"
          ],
          "name": "stderr"
        },
        {
          "output_type": "execute_result",
          "data": {
            "application/vnd.google.colaboratory.intrinsic+json": {
              "type": "string"
            },
            "text/plain": [
              "'movie_plots_tc.csv'"
            ]
          },
          "metadata": {
            "tags": []
          },
          "execution_count": 1
        }
      ]
    },
    {
      "cell_type": "markdown",
      "metadata": {
        "id": "MsA1vWxjFFMF"
      },
      "source": [
        "This file has the format:\n",
        "Plot \"tab\" Label\n",
        "So, our fist step would be to separate labels and plots. For this task, we will use the pandas library, as it enables easy csv processing:"
      ]
    },
    {
      "cell_type": "code",
      "metadata": {
        "id": "8PaEav_4HXGp"
      },
      "source": [
        "import pandas as pd\n",
        "with open('movie_plots_tc.csv',encoding='utf-8',errors='ignore') as csv_file:\n",
        "  df=pd.read_csv(csv_file,sep=';')\n",
        "plots=df['Plot']\n",
        "labels=df['Genre']"
      ],
      "execution_count": null,
      "outputs": []
    },
    {
      "cell_type": "markdown",
      "metadata": {
        "id": "EB03yWqLjXQ-"
      },
      "source": [
        "Out of all the existing samples, we select a subsample of 800 elements for computation purposes"
      ]
    },
    {
      "cell_type": "code",
      "metadata": {
        "id": "A3hrxX5VQACK"
      },
      "source": [
        "plots=plots[:800]\n",
        "labels=labels[:800]"
      ],
      "execution_count": null,
      "outputs": []
    },
    {
      "cell_type": "markdown",
      "metadata": {
        "id": "7eMApRRVjvhU"
      },
      "source": [
        "Neural Networks can not predict over string-type labels. As this is a multi-class classification problem, we need to one-hot encode our labels. Labels will then be represented by vectors of size 3, with a 1 in the index corresponding with its ground label."
      ]
    },
    {
      "cell_type": "code",
      "metadata": {
        "id": "fVZRkcD8EEgX"
      },
      "source": [
        "import numpy as np\n",
        "str2id={'western':0,'drama':1,'comedy':2}\n",
        "id2str={0:'western',1:'drama',2:'comedy'}\n",
        "\n",
        "list_plots=plots.fillna(\"CVxTz\").values\n",
        "indexed_labels=[]\n",
        "for l in labels:\n",
        "  label=np.zeros((3))\n",
        "  label[str2id[l]]=1\n",
        "  indexed_labels.append(label)\n",
        "indexed_labels=np.array(indexed_labels)\n"
      ],
      "execution_count": null,
      "outputs": []
    },
    {
      "cell_type": "markdown",
      "metadata": {
        "id": "Qym4WtiAj4wA"
      },
      "source": [
        "As usual, we need to split our data between two sets: training and validation"
      ]
    },
    {
      "cell_type": "code",
      "metadata": {
        "id": "WcoG1x6eHm6r"
      },
      "source": [
        "from sklearn.model_selection import train_test_split\n",
        "train_features, val_features, train_labels, val_labels = train_test_split(list_plots, indexed_labels, test_size=0.25, random_state=2018)"
      ],
      "execution_count": null,
      "outputs": []
    },
    {
      "cell_type": "markdown",
      "metadata": {
        "id": "hhmlcE6tkCvr"
      },
      "source": [
        "## Building the ElmO embedding layer\n",
        "Our model will be composed by two differentiated parts: the embedding module and the prediction module. \n",
        "As in the RNN case, we could simply add an embedding layer and train the embeddings alongside with the classifier. However, as evidenced by the previous case, this would give suboptimal results for this problem, due to the lack of data and computational resources.\n",
        "\n",
        "Hence, we will use a pretrained ElmO embedding layer to perform the conversion of textual information into vectors. ElmO embedding layer is available in the Tensorflow Hub. We define a function that performs the operation associated with this layer, namely, calling the ElmO pretrained model to embed the input."
      ]
    },
    {
      "cell_type": "code",
      "metadata": {
        "colab": {
          "base_uri": "https://localhost:8080/"
        },
        "id": "KB1ceuniEtNR",
        "outputId": "46c3a9cc-809a-41ca-ca45-98918d2be91c"
      },
      "source": [
        "%tensorflow_version 1.x\n",
        "import tensorflow as tf\n",
        "import tensorflow_hub as hub\n",
        "from keras import backend as K\n",
        "\n",
        "gpu_options = tf.GPUOptions(allow_growth=True)\n",
        "sess = tf.Session(config=tf.ConfigProto(gpu_options=gpu_options))\n",
        "# sess = tf.Session()\n",
        "K.set_session(sess)\n",
        "\n",
        "elmo_model = hub.Module(\"https://tfhub.dev/google/elmo/2\", trainable=True)\n",
        "\n",
        "sess.run(tf.global_variables_initializer())\n",
        "sess.run(tf.tables_initializer())\n",
        "\n",
        "def ElmoEmbeddings(x):\n",
        "  return elmo_model(tf.squeeze(tf.cast(x,tf.string),axis=1),signature=\"default\",\n",
        "                    as_dict=True)[\"default\"]"
      ],
      "execution_count": null,
      "outputs": [
        {
          "output_type": "stream",
          "text": [
            "TensorFlow 1.x selected.\n"
          ],
          "name": "stdout"
        },
        {
          "output_type": "stream",
          "text": [
            "Using TensorFlow backend.\n"
          ],
          "name": "stderr"
        }
      ]
    },
    {
      "cell_type": "markdown",
      "metadata": {
        "id": "Y2JqvIUBlBdX"
      },
      "source": [
        "## Building the classifier\n",
        "\n",
        "Once the embedding layer is specified, we can define the remainder of the network. As previously mentioned, there are two differentiated parts. The first part refers to the embedding module, and internally is composed by two layers: an Input layer of dimension one, where the network input in string form is received; and the ElmO embedding layer that we previously specified, which receives the input text and returns an embedding of dimension 1024.\n",
        "\n",
        "Once the input is converted into a vector, the goal of the remainder of the network is to classify the input into the three defined classes. In our case, our classifier is composed by a simple, fully connected layer of dimension 32 and an output layer with a softmax activation."
      ]
    },
    {
      "cell_type": "code",
      "metadata": {
        "colab": {
          "base_uri": "https://localhost:8080/"
        },
        "id": "CvvKA6XME9qm",
        "outputId": "5facad14-cc09-41e6-fb5b-4662e2a95778"
      },
      "source": [
        "from keras.models import Model, Input\n",
        "from keras.layers.merge import add\n",
        "from keras.layers import Embedding, Dense, TimeDistributed, Dropout, Bidirectional, Lambda\n",
        "\n",
        "input_text=Input(shape=(1,), dtype=tf.string)\n",
        "\n",
        "embedding= Lambda(ElmoEmbeddings, output_shape=(1024,))(input_text)\n",
        "\n",
        "dense_1=Dense(32, activation='relu')(embedding)\n",
        "\n",
        "out = Dense(len(id2str), activation=\"softmax\")(dense_1)\n",
        "\n",
        "model=Model(input_text,out)\n",
        "\n",
        "model.compile(\n",
        "    optimizer='adam', loss='categorical_crossentropy', metrics=['categorical_accuracy'])"
      ],
      "execution_count": null,
      "outputs": [
        {
          "output_type": "stream",
          "text": [
            "INFO:tensorflow:Saver not created because there are no variables in the graph to restore\n"
          ],
          "name": "stdout"
        },
        {
          "output_type": "stream",
          "text": [
            "INFO:tensorflow:Saver not created because there are no variables in the graph to restore\n"
          ],
          "name": "stderr"
        },
        {
          "output_type": "stream",
          "text": [
            "WARNING:tensorflow:From /tensorflow-1.15.2/python3.6/tensorflow_core/python/ops/resource_variable_ops.py:1630: calling BaseResourceVariable.__init__ (from tensorflow.python.ops.resource_variable_ops) with constraint is deprecated and will be removed in a future version.\n",
            "Instructions for updating:\n",
            "If using Keras pass *_constraint arguments to layers.\n"
          ],
          "name": "stdout"
        },
        {
          "output_type": "stream",
          "text": [
            "WARNING:tensorflow:From /tensorflow-1.15.2/python3.6/tensorflow_core/python/ops/resource_variable_ops.py:1630: calling BaseResourceVariable.__init__ (from tensorflow.python.ops.resource_variable_ops) with constraint is deprecated and will be removed in a future version.\n",
            "Instructions for updating:\n",
            "If using Keras pass *_constraint arguments to layers.\n"
          ],
          "name": "stderr"
        }
      ]
    },
    {
      "cell_type": "markdown",
      "metadata": {
        "id": "CLdfRgFVlwsR"
      },
      "source": [
        "We can now plot a summary of the specified model to check that everything is fine!"
      ]
    },
    {
      "cell_type": "code",
      "metadata": {
        "colab": {
          "base_uri": "https://localhost:8080/"
        },
        "id": "RYDs4bD5G8eg",
        "outputId": "1ca4ff6b-72a1-4e65-e754-4b85560e4097"
      },
      "source": [
        "model.summary()"
      ],
      "execution_count": null,
      "outputs": [
        {
          "output_type": "stream",
          "text": [
            "Model: \"model_1\"\n",
            "_________________________________________________________________\n",
            "Layer (type)                 Output Shape              Param #   \n",
            "=================================================================\n",
            "input_1 (InputLayer)         (None, 1)                 0         \n",
            "_________________________________________________________________\n",
            "lambda_1 (Lambda)            (None, 1024)              0         \n",
            "_________________________________________________________________\n",
            "dense_1 (Dense)              (None, 32)                32800     \n",
            "_________________________________________________________________\n",
            "dense_2 (Dense)              (None, 3)                 99        \n",
            "=================================================================\n",
            "Total params: 32,899\n",
            "Trainable params: 32,899\n",
            "Non-trainable params: 0\n",
            "_________________________________________________________________\n"
          ],
          "name": "stdout"
        }
      ]
    },
    {
      "cell_type": "code",
      "metadata": {
        "colab": {
          "base_uri": "https://localhost:8080/",
          "height": 369
        },
        "id": "BUhySB_jNAMw",
        "outputId": "901bba7d-b189-4308-e70a-313212c46af9"
      },
      "source": [
        "from keras.utils import plot_model\n",
        "plot_model(model)"
      ],
      "execution_count": null,
      "outputs": [
        {
          "output_type": "execute_result",
          "data": {
            "image/png": "[encoded data removed]",
            "text/plain": [
              "<IPython.core.display.Image object>"
            ]
          },
          "metadata": {
            "tags": []
          },
          "execution_count": 9
        }
      ]
    },
    {
      "cell_type": "markdown",
      "metadata": {
        "id": "vI3avXsGl1Md"
      },
      "source": [
        "## Training the text classification model\n",
        "\n",
        "We train our model as usual, calling the _fit_ function of the Keras model."
      ]
    },
    {
      "cell_type": "code",
      "metadata": {
        "colab": {
          "base_uri": "https://localhost:8080/"
        },
        "id": "woy2j9SFHA4h",
        "outputId": "a728564f-9dde-4d71-a518-036766f5df1b"
      },
      "source": [
        "history=model.fit(train_features,train_labels,epochs=5,batch_size=16,validation_data=(val_features,val_labels))"
      ],
      "execution_count": null,
      "outputs": [
        {
          "output_type": "stream",
          "text": [
            "WARNING:tensorflow:From /tensorflow-1.15.2/python3.6/keras/backend/tensorflow_backend.py:422: The name tf.global_variables is deprecated. Please use tf.compat.v1.global_variables instead.\n",
            "\n"
          ],
          "name": "stdout"
        },
        {
          "output_type": "stream",
          "text": [
            "WARNING:tensorflow:From /tensorflow-1.15.2/python3.6/keras/backend/tensorflow_backend.py:422: The name tf.global_variables is deprecated. Please use tf.compat.v1.global_variables instead.\n",
            "\n"
          ],
          "name": "stderr"
        },
        {
          "output_type": "stream",
          "text": [
            "WARNING:tensorflow:From /tensorflow-1.15.2/python3.6/keras/backend/tensorflow_backend.py:431: The name tf.is_variable_initialized is deprecated. Please use tf.compat.v1.is_variable_initialized instead.\n",
            "\n"
          ],
          "name": "stdout"
        },
        {
          "output_type": "stream",
          "text": [
            "WARNING:tensorflow:From /tensorflow-1.15.2/python3.6/keras/backend/tensorflow_backend.py:431: The name tf.is_variable_initialized is deprecated. Please use tf.compat.v1.is_variable_initialized instead.\n",
            "\n"
          ],
          "name": "stderr"
        },
        {
          "output_type": "stream",
          "text": [
            "Train on 600 samples, validate on 200 samples\n",
            "Epoch 1/5\n",
            "600/600 [==============================] - 162s 269ms/step - loss: 0.1384 - categorical_accuracy: 0.9683 - val_loss: 7.8555e-04 - val_categorical_accuracy: 1.0000\n",
            "Epoch 2/5\n",
            "600/600 [==============================] - 142s 236ms/step - loss: 4.0585e-04 - categorical_accuracy: 1.0000 - val_loss: 1.9924e-04 - val_categorical_accuracy: 1.0000\n",
            "Epoch 3/5\n",
            "600/600 [==============================] - 137s 228ms/step - loss: 1.6538e-04 - categorical_accuracy: 1.0000 - val_loss: 1.1563e-04 - val_categorical_accuracy: 1.0000\n",
            "Epoch 4/5\n",
            "600/600 [==============================] - 135s 225ms/step - loss: 4.9852e-05 - categorical_accuracy: 1.0000 - val_loss: 1.6059e-05 - val_categorical_accuracy: 1.0000\n",
            "Epoch 5/5\n",
            "600/600 [==============================] - 131s 218ms/step - loss: 1.0015e-05 - categorical_accuracy: 1.0000 - val_loss: 5.0180e-06 - val_categorical_accuracy: 1.0000\n"
          ],
          "name": "stdout"
        }
      ]
    },
    {
      "cell_type": "markdown",
      "metadata": {
        "id": "7mMfSRPimm19"
      },
      "source": [
        "Once the model is trained, we evaluate as usual"
      ]
    },
    {
      "cell_type": "code",
      "metadata": {
        "colab": {
          "base_uri": "https://localhost:8080/"
        },
        "id": "rr-4ur7-S8bm",
        "outputId": "6d5994ab-ccc0-496b-b478-8311b6e2bc17"
      },
      "source": [
        "model.evaluate(val_features,val_labels)"
      ],
      "execution_count": null,
      "outputs": [
        {
          "output_type": "stream",
          "text": [
            "200/200 [==============================] - 34s 169ms/step\n"
          ],
          "name": "stdout"
        },
        {
          "output_type": "execute_result",
          "data": {
            "text/plain": [
              "[3.6256938437873032e-06, 1.0]"
            ]
          },
          "metadata": {
            "tags": []
          },
          "execution_count": 11
        }
      ]
    },
    {
      "cell_type": "code",
      "metadata": {
        "colab": {
          "base_uri": "https://localhost:8080/",
          "height": 736
        },
        "id": "Ru_Ug8zXTCMZ",
        "outputId": "5f20dc8d-d843-4125-fc6a-e9bbf56f68ad"
      },
      "source": [
        "import pandas as pd\n",
        "import matplotlib.pyplot as plt\n",
        "plt.style.use(\"ggplot\")\n",
        "hist = pd.DataFrame(history.history)\n",
        "plt.figure(figsize=(12,12))\n",
        "plt.plot(hist[\"categorical_accuracy\"])\n",
        "plt.plot(hist[\"val_categorical_accuracy\"])\n",
        "plt.title(\"Learning curve (Accuracies)\")\n",
        "plt.legend()\n",
        "plt.show()"
      ],
      "execution_count": null,
      "outputs": [
        {
          "output_type": "stream",
          "text": [
            "WARNING:matplotlib.legend:No handles with labels found to put in legend.\n"
          ],
          "name": "stderr"
        },
        {
          "output_type": "display_data",
          "data": {
            "image/png": "[encoded data removed]",
            "text/plain": [
              "<Figure size 864x864 with 1 Axes>"
            ]
          },
          "metadata": {
            "tags": []
          }
        }
      ]
    },
    {
      "cell_type": "code",
      "metadata": {
        "colab": {
          "base_uri": "https://localhost:8080/",
          "height": 736
        },
        "id": "-SzHe_C-TFcF",
        "outputId": "47569085-75f4-4363-d45c-dadbe80d61a7"
      },
      "source": [
        "hist = pd.DataFrame(history.history)\n",
        "plt.figure(figsize=(12,12))\n",
        "plt.plot(hist[\"loss\"])\n",
        "plt.plot(hist[\"val_loss\"])\n",
        "plt.title(\"Learning curve (Losses)\")\n",
        "plt.legend()\n",
        "plt.show()"
      ],
      "execution_count": null,
      "outputs": [
        {
          "output_type": "stream",
          "text": [
            "WARNING:matplotlib.legend:No handles with labels found to put in legend.\n"
          ],
          "name": "stderr"
        },
        {
          "output_type": "display_data",
          "data": {
            "image/png": "[encoded data removed]",
            "text/plain": [
              "<Figure size 864x864 with 1 Axes>"
            ]
          },
          "metadata": {
            "tags": []
          }
        }
      ]
    },
    {
      "cell_type": "markdown",
      "metadata": {
        "id": "nPWbP20QmsLN"
      },
      "source": [
        "Opposite to the case of the RNN, where we train our embeddings from scratch and obtained subpar results; in this case we reach a 100% accuracy at the first epoch, thanks to the use of the external ElmO embeddings. The main downside of this approach is the computational cost it requires: as ElmO embeddings have a dimension of 1024, it requires quite a big amount of memory, and so the size of the classifier, as well as the batch size, need to be smaller in order not to overflow the available memory."
      ]
    },
    {
      "cell_type": "markdown",
      "metadata": {
        "id": "7bBnAJRumsw-"
      },
      "source": [
        "## Evaluating over unseen data\n",
        "\n",
        "As ElmO can generate representations for unseen data, we can use this feature to predict over unseen input reviews. In this case, we will try to predict the genre of the film 'The Hitman's Bodyguard' from its abstract:"
      ]
    },
    {
      "cell_type": "code",
      "metadata": {
        "id": "EwwYEfBvaWC6"
      },
      "source": [
        "new_plot=\"\"\"Michael Bryce (Ryan Reynolds) lives a stylish life as an elite UK-based private bodyguard, until client Takashi Kurosawa is assassinated on his watch. Two years later, the disgraced Bryce ekes out a living protecting drug-addicted corporate executives in London.\n",
        "\n",
        "Meanwhile, Vladislav Dukhovich (Oldman), the ruthless dictator of Belarus is on trial for crimes against humanity at the International Criminal Court. Unable to secure solid evidence or testimony against Dukhovich, the prosecution's last hope is notorious incarcerated hitman Darius Kincaid (Jackson), who agrees to testify against Dukhovich in exchange for the release of his wife Sonia (Hayek) from prison.\n",
        "\n",
        "Dukhovich's men track Kincaid and eliminate the attackers but their vehicle is destroyed. The two hitchhike to a ferry to Amsterdam, where Sonia is being held. Kincaid reveals that he killed Kurosawa, having spotted him by chance while on another job. As Bryce bemoans his failures at a beer stand, Dukhovich's men attack Kincaid. Bryce has a change of heart and helps Kincaid escape, but is captured. As Dukhovich's men torture him, Kincaid arrives and rescues Bryce. After settling their differences, the two battle their way to The Hague, arriving just in time for Kincaid to testify that Dukhovich tried to hire him to assassinate a political rival, but in the process Kincaid witnessed Dukhovich carry out a mass execution, and uploaded photos of the massacre to a secret FTP site that he provides to the court.\n",
        "\n",
        "Dukhovich admits guilt, then resorts to his backup plan: bombing the court to escape. Foucher leaves the court before the bombing; Roussel deduces he was the traitor. In the confusion after the bomb went off, Dukhovich seizes a gun to kill Kincaid, but Bryce jumps in the path of the bullet, telling Kincaid to stop Dukhovich. Foucher and Roussel fight. Bryce shoots Foucher to save Roussel; she subdues Foucher. Kincaid pursues Dukhovich to the roof, where he attempts to escape by helicopter. Kincaid destroys the helicopter and kicks Dukhovich off the roof to his death for shooting Bryce.\n",
        "\n",
        "Kincaid is rearrested for his various crimes, but breaks out of HMP Belmarsh several months later so he and Sonia can celebrate their anniversary in the bar in Honduras where they first met. As a wild bar brawl breaks out around them, the two kiss. \"\"\"\n"
      ],
      "execution_count": null,
      "outputs": []
    },
    {
      "cell_type": "markdown",
      "metadata": {
        "id": "BVFF_78en_eH"
      },
      "source": [
        "In order to meet the input constraints of the network, we need to convert our input into a numpy array"
      ]
    },
    {
      "cell_type": "code",
      "metadata": {
        "id": "oNzpRjfwcQY6"
      },
      "source": [
        "new_plot=np.array(new_plot)\n",
        "new_plot=np.expand_dims(new_plot,axis=0)"
      ],
      "execution_count": null,
      "outputs": []
    },
    {
      "cell_type": "markdown",
      "metadata": {
        "id": "IPfwUC7qoEvN"
      },
      "source": [
        "Finally, we can input the embedded plot into the net to predict the label "
      ]
    },
    {
      "cell_type": "code",
      "metadata": {
        "colab": {
          "base_uri": "https://localhost:8080/"
        },
        "id": "9qQ70MlwbbC-",
        "outputId": "35285d94-147e-4bde-fe4a-727ce50ec905"
      },
      "source": [
        "predictions=model.predict(new_plot)\n",
        "print(id2str[np.argmax(predictions)])"
      ],
      "execution_count": null,
      "outputs": [
        {
          "output_type": "stream",
          "text": [
            "western\n"
          ],
          "name": "stdout"
        }
      ]
    }
  ]
}