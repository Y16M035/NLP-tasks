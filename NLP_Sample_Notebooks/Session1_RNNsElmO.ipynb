{
  "nbformat": 4,
  "nbformat_minor": 0,
  "metadata": {
    "colab": {
      "name": "Session1_RNNsElmO.ipynb",
      "provenance": [],
      "collapsed_sections": [],
      "toc_visible": true,
      "machine_shape": "hm"
    },
    "kernelspec": {
      "name": "python3",
      "display_name": "Python 3"
    },
    "accelerator": "GPU"
  },
  "cells": [
    {
      "cell_type": "markdown",
      "metadata": {
        "id": "rOAiiEZPCxim"
      },
      "source": [
        "# RNNs\n",
        "\n",
        "### Getting the data\n",
        "\n",
        "For this problem we will use a subset of the previous dataset. More specifically, we will only considered those plots that refer to comedy films. Using this criteria, we ensure that the vocabulary will have a manageable extension, and that all the elements of the corpus have similiar contextual information."
      ]
    },
    {
      "cell_type": "code",
      "metadata": {
        "id": "RA0aymL60x5W",
        "colab": {
          "base_uri": "https://localhost:8080/",
          "height": 111
        },
        "outputId": "c585e9c0-537f-4ed3-dcea-385e8b9169b2"
      },
      "source": [
        "import gdown\n",
        "\n",
        "url = 'https://drive.google.com/uc?id=190D2TxbCObOV9kJNfWaPDOjT4nhenfgc'\n",
        "output = \"movie_plots_rnn.txt\"\n",
        "gdown.download(url, output, quiet=False)"
      ],
      "execution_count": 1,
      "outputs": [
        {
          "output_type": "stream",
          "text": [
            "Downloading...\n",
            "From: https://drive.google.com/uc?id=190D2TxbCObOV9kJNfWaPDOjT4nhenfgc\n",
            "To: /content/movie_plots_rnn.txt\n",
            "8.98MB [00:00, 54.5MB/s]\n"
          ],
          "name": "stderr"
        },
        {
          "output_type": "execute_result",
          "data": {
            "application/vnd.google.colaboratory.intrinsic+json": {
              "type": "string"
            },
            "text/plain": [
              "'movie_plots_rnn.txt'"
            ]
          },
          "metadata": {
            "tags": []
          },
          "execution_count": 1
        }
      ]
    },
    {
      "cell_type": "markdown",
      "metadata": {
        "id": "tf8ApZy8C2HX"
      },
      "source": [
        "### Preprocessing and cleaning the data\n",
        "\n",
        "As in the previous case, the initial step is to clean and tokenize the data, in order to remove any non-meaningful information, such as stopwords or capital letters. While in Word2Vec we used the built-in preprocessing function provided by *gensim*, as we will be using Keras on this stage, we will use its own tokenizing function. This function, aside from performing the forementioned operations, converts the input documents into evenly-sized sets of N tokens, which are represented as a list of integers. Each integer is associated with a token."
      ]
    },
    {
      "cell_type": "code",
      "metadata": {
        "id": "kz18KZ5YB_q1",
        "colab": {
          "base_uri": "https://localhost:8080/"
        },
        "outputId": "972d3c7a-83a2-441d-d17b-c4f455041223"
      },
      "source": [
        "%tensorflow_version 1.x\n",
        "import tensorflow as tf\n",
        "import keras as K\n",
        "import gensim\n",
        "\n",
        "def process_input_file(input_file):\n",
        "  token_list=[]\n",
        "  with open(input_file,'r',encoding='utf-8',errors='ignore') as f:\n",
        "    for line in f:\n",
        "      token_list.append(gensim.utils.simple_preprocess(line))\n",
        "  return token_list\n",
        "\n",
        "\n",
        "#First, we create the tokenizing object\n",
        "tokenizer=K.preprocessing.text.Tokenizer(num_words=None,filters='#$%&()*+-<=>@[\\\\]^_`{|}~\\t\\n',lower=True,split=' ')\n",
        "#Then, we train the tokenizer\n",
        "documents=process_input_file('./movie_plots_rnn.txt')\n",
        "tokenizer.fit_on_texts(documents)\n",
        "sequences=tokenizer.texts_to_sequences(documents)\n",
        "word_indexes=tokenizer.index_word"
      ],
      "execution_count": 2,
      "outputs": [
        {
          "output_type": "stream",
          "text": [
            "TensorFlow 1.x selected.\n"
          ],
          "name": "stdout"
        },
        {
          "output_type": "stream",
          "text": [
            "Using TensorFlow backend.\n"
          ],
          "name": "stderr"
        }
      ]
    },
    {
      "cell_type": "markdown",
      "metadata": {
        "id": "3s1DwldRC5x_"
      },
      "source": [
        "As in the previous example, we check the values returned by the tokenization function for the first document:"
      ]
    },
    {
      "cell_type": "code",
      "metadata": {
        "id": "zY0xYqslC7Dv",
        "colab": {
          "base_uri": "https://localhost:8080/"
        },
        "outputId": "3acd3168-4448-468f-b8fb-888e33b6c731"
      },
      "source": [
        "sequences[1]"
      ],
      "execution_count": 3,
      "outputs": [
        {
          "output_type": "execute_result",
          "data": {
            "text/plain": [
              "[75,\n",
              " 2327,\n",
              " 31,\n",
              " 2,\n",
              " 1172,\n",
              " 197,\n",
              " 19,\n",
              " 777,\n",
              " 12924,\n",
              " 2497,\n",
              " 2150,\n",
              " 176,\n",
              " 1159,\n",
              " 1694,\n",
              " 281,\n",
              " 30017,\n",
              " 14121,\n",
              " 8,\n",
              " 149,\n",
              " 19,\n",
              " 1,\n",
              " 12924,\n",
              " 2,\n",
              " 840,\n",
              " 1,\n",
              " 197,\n",
              " 21,\n",
              " 23,\n",
              " 155,\n",
              " 56,\n",
              " 6562,\n",
              " 11,\n",
              " 1,\n",
              " 197,\n",
              " 418,\n",
              " 2,\n",
              " 13,\n",
              " 6,\n",
              " 5745,\n",
              " 9,\n",
              " 1,\n",
              " 1173,\n",
              " 571,\n",
              " 1,\n",
              " 8804,\n",
              " 6791,\n",
              " 3,\n",
              " 1,\n",
              " 1172,\n",
              " 1577,\n",
              " 43,\n",
              " 34,\n",
              " 1,\n",
              " 4121,\n",
              " 419,\n",
              " 30,\n",
              " 1,\n",
              " 197,\n",
              " 5,\n",
              " 71,\n",
              " 176,\n",
              " 1159,\n",
              " 5,\n",
              " 7673,\n",
              " 53,\n",
              " 16,\n",
              " 37,\n",
              " 4,\n",
              " 7,\n",
              " 101,\n",
              " 26,\n",
              " 17,\n",
              " 253,\n",
              " 19,\n",
              " 1159,\n",
              " 60,\n",
              " 17,\n",
              " 920,\n",
              " 7,\n",
              " 79,\n",
              " 20,\n",
              " 111,\n",
              " 1031,\n",
              " 9,\n",
              " 1,\n",
              " 99,\n",
              " 3,\n",
              " 1436,\n",
              " 2,\n",
              " 3594,\n",
              " 3595,\n",
              " 13,\n",
              " 620,\n",
              " 8,\n",
              " 5,\n",
              " 1366,\n",
              " 12,\n",
              " 10,\n",
              " 166,\n",
              " 5130,\n",
              " 19977]"
            ]
          },
          "metadata": {
            "tags": []
          },
          "execution_count": 3
        }
      ]
    },
    {
      "cell_type": "markdown",
      "metadata": {
        "id": "ua7uVW-eC8Wf"
      },
      "source": [
        "If we want to transform these sequences of integers back to text:"
      ]
    },
    {
      "cell_type": "code",
      "metadata": {
        "id": "M5Gp_GIVC-Pn",
        "colab": {
          "base_uri": "https://localhost:8080/",
          "height": 130
        },
        "outputId": "65a56e37-a704-409f-f2a0-5ded59cffe04"
      },
      "source": [
        "' '.join([word_indexes[i] for i in sequences[1]])"
      ],
      "execution_count": 4,
      "outputs": [
        {
          "output_type": "execute_result",
          "data": {
            "application/vnd.google.colaboratory.intrinsic+json": {
              "type": "string"
            },
            "text/plain": [
              "'before heading out to baseball game at nearby ballpark sports fan mr brown drinks several highball cocktails he arrives at the ballpark to watch the game but has become so inebriated that the game appears to him in reverse with the players running the bases backwards and the baseball flying back into the pitcher hand after the game is over mr brown is escorted home by one of his friends when they arrive at brown house they encounter his wife who becomes furious with the friend and proceeds to physically assault him believing he is responsible for her husband severe intoxication'"
            ]
          },
          "metadata": {
            "tags": []
          },
          "execution_count": 4
        }
      ]
    },
    {
      "cell_type": "markdown",
      "metadata": {
        "id": "CA51Gk3BDAGz"
      },
      "source": [
        "### Generating the features and labels for training\n",
        "\n",
        "As presented in previous sessions, the training goal of a RNN could be formulated as: *Given N words, what is the word N+1 that fits best?*. Thus, we need to transform our tokenized corpus into even sequences of N elements, which will be the features, while the N+1 word of each sequence will be the label. \n",
        "\n",
        "For this purpose, we will define a function *make_training_data* that solves this task. This function receives the tokenized integer sequences as a parameter, alongside with the desired amount of features *N*, returning the training set of features and labels. As we have a limited amount of RAM, we must add an extra parameter to limit the number of features to extract."
      ]
    },
    {
      "cell_type": "code",
      "metadata": {
        "id": "zUuQkRpbDRyQ"
      },
      "source": [
        "import numpy as np\n",
        "\n",
        "def make_training_data(sequences, N,limit=500):\n",
        "  features=[]\n",
        "  label_positions=[]\n",
        "  for s in sequences[:limit]:\n",
        "    for i in range(N, len(s)):\n",
        "        chunk = s[i - N:i + 1]\n",
        "        features.append(chunk[:-1])\n",
        "        label_positions.append(chunk[-1])\n",
        "        \n",
        "  features = np.array(features)\n",
        "  #one-hot encoding the labels\n",
        "  total_words=len(word_indexes.keys())\n",
        "  labels=np.zeros((features.shape[0],total_words))\n",
        "  for i,l in enumerate(label_positions):\n",
        "    labels[i,l]=1\n",
        "\n",
        "  \n",
        "  return features,labels"
      ],
      "execution_count": 5,
      "outputs": []
    },
    {
      "cell_type": "markdown",
      "metadata": {
        "id": "nMmxOEybDTiq"
      },
      "source": [
        "In order to generate probability distributions over the possible output words, we need to one-hot encode the labels"
      ]
    },
    {
      "cell_type": "code",
      "metadata": {
        "id": "qCb-dvWjDVzX"
      },
      "source": [
        "max_len=30\n",
        "features,labels=make_training_data(sequences,30)"
      ],
      "execution_count": 6,
      "outputs": []
    },
    {
      "cell_type": "markdown",
      "metadata": {
        "id": "1Roj_-5DDXvr"
      },
      "source": [
        "Out of the generated set, we generate two different subsets: a training and a validation one:"
      ]
    },
    {
      "cell_type": "code",
      "metadata": {
        "id": "KNExUyS7Douc"
      },
      "source": [
        "from sklearn.model_selection import train_test_split\n",
        "train_features, val_features, train_labels, val_labels = train_test_split(features, labels, test_size=0.25, random_state=2018)\n",
        "del features\n",
        "del labels"
      ],
      "execution_count": 7,
      "outputs": []
    },
    {
      "cell_type": "markdown",
      "metadata": {
        "id": "H3MHc4WVDqRe"
      },
      "source": [
        "### Building the RNN\n",
        "\n",
        "According to their functionality, three different modules can be distinguished within a RNN:\n",
        "*    **Embedding module**: This module is composed by an embedding layer and, optionally, a masking layer. If we are using pretrained embeddings, we need to setup a masking layer in order to refrain the network from changing the values of the embeddings.\n",
        "*    **LSTM module**\n",
        "*    **Fully-connected module** This kind of layers can appear intertwined with LSTMs or at the bottom of the network, as they serve as output layers (in combination with a softmax function)\n",
        "\n",
        "Additionally, we could introduce some *Dropout* layers, in order to prevent overfitting\n",
        "\n",
        "To build the RNN, we will use the Keras library on top of Tensorflow."
      ]
    },
    {
      "cell_type": "code",
      "metadata": {
        "id": "dIpluCi5DsaB",
        "colab": {
          "base_uri": "https://localhost:8080/"
        },
        "outputId": "5e7c76f7-fca1-4580-aa2b-62061eb3a42f"
      },
      "source": [
        "from keras.models import Sequential\n",
        "from keras.layers import LSTM, Dense, Dropout, Masking, Embedding,Lambda, Input\n",
        "\n",
        "model = Sequential()\n",
        "num_words=len(word_indexes.keys())\n",
        "\n",
        "model.add(\n",
        "    Embedding(input_dim=num_words,\n",
        "              output_dim=100,\n",
        "              trainable=True,\n",
        "              mask_zero=False))\n",
        "\n",
        "model.add(LSTM(64, return_sequences=False, \n",
        "               dropout=0.1, recurrent_dropout=0.1))\n",
        "\n",
        "model.add(Dropout(0,5))\n",
        "\n",
        "model.add(Dense(64, activation='relu'))\n",
        "\n",
        "model.add(Dense(num_words, activation='softmax'))\n",
        "\n",
        "model.compile(\n",
        "    optimizer='adam', loss='categorical_crossentropy', metrics=['accuracy'])"
      ],
      "execution_count": 8,
      "outputs": [
        {
          "output_type": "stream",
          "text": [
            "WARNING:tensorflow:From /tensorflow-1.15.2/python3.7/tensorflow_core/python/ops/resource_variable_ops.py:1630: calling BaseResourceVariable.__init__ (from tensorflow.python.ops.resource_variable_ops) with constraint is deprecated and will be removed in a future version.\n",
            "Instructions for updating:\n",
            "If using Keras pass *_constraint arguments to layers.\n"
          ],
          "name": "stdout"
        }
      ]
    },
    {
      "cell_type": "markdown",
      "metadata": {
        "id": "uUIftSmGDuyo"
      },
      "source": [
        "We have the following network:"
      ]
    },
    {
      "cell_type": "code",
      "metadata": {
        "id": "thsf_JAEDwix",
        "colab": {
          "base_uri": "https://localhost:8080/",
          "height": 564
        },
        "outputId": "6db481f7-e05b-466e-a8fc-3e89b2faf414"
      },
      "source": [
        "from keras.utils import plot_model\n",
        "plot_model(model)"
      ],
      "execution_count": 9,
      "outputs": [
        {
          "output_type": "execute_result",
          "data": {
            "image/png": "[encoded data removed]",
            "text/plain": [
              "<IPython.core.display.Image object>"
            ]
          },
          "metadata": {
            "tags": []
          },
          "execution_count": 9
        }
      ]
    },
    {
      "cell_type": "markdown",
      "metadata": {
        "id": "BY9kgHIvDym4"
      },
      "source": [
        "The previous model is set **NOT** to use pretrained embeddings. However, there are several sources available where we could retrieve high-quality embeddings from. Two of the most relevant benefits of using pretrained embeddings are:\n",
        "*   Reduction of training time (as the embedding layer does not need to be trained)\n",
        "*   Better results (as the pretrained embeddings come from corpuses of over 10x the dimension of our data. Thus, those representations have a much higher quality and expresivity than the ones we could obtain with a small corpus).\n",
        "\n",
        "Later in this example we will use the pretrained vectors availablle in TensorflowHub for the ElmO model."
      ]
    },
    {
      "cell_type": "markdown",
      "metadata": {
        "id": "RWx2Vqy0D4Q_"
      },
      "source": [
        "### Training and testing the RNN (with embedding training)\n",
        "\n",
        "Once our RNN is built, we can train it. "
      ]
    },
    {
      "cell_type": "code",
      "metadata": {
        "id": "orftcUG_D5_3",
        "colab": {
          "base_uri": "https://localhost:8080/"
        },
        "outputId": "411398e2-5c5c-42ee-807f-b4b961f84ec7"
      },
      "source": [
        "history = model.fit(train_features,  train_labels, \n",
        "                    batch_size=256, epochs=10,\n",
        "                    validation_data=(val_features, val_labels))\n",
        "\n",
        "model.evaluate(val_features,val_labels)"
      ],
      "execution_count": 10,
      "outputs": [
        {
          "output_type": "stream",
          "text": [
            "WARNING:tensorflow:From /tensorflow-1.15.2/python3.7/keras/backend/tensorflow_backend.py:422: The name tf.global_variables is deprecated. Please use tf.compat.v1.global_variables instead.\n",
            "\n",
            "Train on 22723 samples, validate on 7575 samples\n",
            "Epoch 1/10\n",
            "22723/22723 [==============================] - 16s 711us/step - loss: 8.4535 - accuracy: 0.0673 - val_loss: 7.2138 - val_accuracy: 0.0685\n",
            "Epoch 2/10\n",
            "22723/22723 [==============================] - 11s 501us/step - loss: 6.7695 - accuracy: 0.0705 - val_loss: 7.1512 - val_accuracy: 0.0685\n",
            "Epoch 3/10\n",
            "22723/22723 [==============================] - 11s 499us/step - loss: 6.6078 - accuracy: 0.0705 - val_loss: 7.1822 - val_accuracy: 0.0685\n",
            "Epoch 4/10\n",
            "22723/22723 [==============================] - 11s 497us/step - loss: 6.5286 - accuracy: 0.0705 - val_loss: 7.2512 - val_accuracy: 0.0685\n",
            "Epoch 5/10\n",
            "22723/22723 [==============================] - 11s 499us/step - loss: 6.4829 - accuracy: 0.0705 - val_loss: 7.3246 - val_accuracy: 0.0685\n",
            "Epoch 6/10\n",
            "22723/22723 [==============================] - 11s 501us/step - loss: 6.4455 - accuracy: 0.0727 - val_loss: 7.3682 - val_accuracy: 0.0764\n",
            "Epoch 7/10\n",
            "22723/22723 [==============================] - 11s 500us/step - loss: 6.3968 - accuracy: 0.0806 - val_loss: 7.3812 - val_accuracy: 0.0792\n",
            "Epoch 8/10\n",
            "22723/22723 [==============================] - 11s 498us/step - loss: 6.3382 - accuracy: 0.0819 - val_loss: 7.4024 - val_accuracy: 0.0830\n",
            "Epoch 9/10\n",
            "22723/22723 [==============================] - 11s 500us/step - loss: 6.2711 - accuracy: 0.0884 - val_loss: 7.4211 - val_accuracy: 0.0833\n",
            "Epoch 10/10\n",
            "22723/22723 [==============================] - 11s 497us/step - loss: 6.1880 - accuracy: 0.0970 - val_loss: 7.4449 - val_accuracy: 0.0846\n",
            "7575/7575 [==============================] - 5s 699us/step\n"
          ],
          "name": "stdout"
        },
        {
          "output_type": "execute_result",
          "data": {
            "text/plain": [
              "[7.444925728599624, 0.08462046086788177]"
            ]
          },
          "metadata": {
            "tags": []
          },
          "execution_count": 10
        }
      ]
    },
    {
      "cell_type": "markdown",
      "metadata": {
        "id": "SyqWyOYlD90o"
      },
      "source": [
        "Once the model has been trained, we can then evaluate it. The  model will return the probability per each word in the vocabulary. In order to associate the predicted values to the words in the vocabulary, we first retrieve the index of the word with the highest possibility. Then, we find what word is associated with that key:"
      ]
    },
    {
      "cell_type": "code",
      "metadata": {
        "id": "dBAbRhWBD_bH",
        "colab": {
          "base_uri": "https://localhost:8080/"
        },
        "outputId": "a77307fd-ce6b-47a8-a0f8-a3ff2a6e28ee"
      },
      "source": [
        "X=['There is a keyboard']\n",
        "input_text=tokenizer.texts_to_sequences(X)\n",
        "prediction=np.argmax(model.predict(input_text))\n",
        "word_prediction=word_indexes[prediction]\n",
        "print(word_prediction)"
      ],
      "execution_count": 11,
      "outputs": [
        {
          "output_type": "stream",
          "text": [
            "the\n"
          ],
          "name": "stdout"
        }
      ]
    },
    {
      "cell_type": "markdown",
      "metadata": {
        "id": "RV2x7RXejy6m"
      },
      "source": [
        "As a single prediction is not representative of the global behaviour of the model, we can also plot its learning and accuracy curves in order to have an overview on the model performance:"
      ]
    },
    {
      "cell_type": "code",
      "metadata": {
        "id": "POuSVHmPj_Lm",
        "colab": {
          "base_uri": "https://localhost:8080/",
          "height": 736
        },
        "outputId": "756af927-3893-4be7-e057-1002f233a4a2"
      },
      "source": [
        "import pandas as pd\n",
        "import matplotlib.pyplot as plt\n",
        "plt.style.use(\"ggplot\")\n",
        "hist = pd.DataFrame(history.history)\n",
        "plt.figure(figsize=(12,12))\n",
        "plt.plot(hist[\"accuracy\"])\n",
        "plt.plot(hist[\"val_accuracy\"])\n",
        "plt.title(\"Learning curve (Accuracies)\")\n",
        "plt.legend()\n",
        "plt.show()"
      ],
      "execution_count": 12,
      "outputs": [
        {
          "output_type": "stream",
          "text": [
            "No handles with labels found to put in legend.\n"
          ],
          "name": "stderr"
        },
        {
          "output_type": "display_data",
          "data": {
            "image/png": "[encoded data removed]",
            "text/plain": [
              "<Figure size 864x864 with 1 Axes>"
            ]
          },
          "metadata": {
            "tags": []
          }
        }
      ]
    },
    {
      "cell_type": "code",
      "metadata": {
        "id": "eaxXUdxooNDS",
        "colab": {
          "base_uri": "https://localhost:8080/",
          "height": 736
        },
        "outputId": "83dbdcc4-a951-4c60-e344-7418ffa80ba3"
      },
      "source": [
        "hist = pd.DataFrame(history.history)\n",
        "plt.figure(figsize=(12,12))\n",
        "plt.plot(hist[\"loss\"])\n",
        "plt.plot(hist[\"val_loss\"])\n",
        "plt.title(\"Learning curve (Losses)\")\n",
        "plt.legend()\n",
        "plt.show()"
      ],
      "execution_count": 13,
      "outputs": [
        {
          "output_type": "stream",
          "text": [
            "No handles with labels found to put in legend.\n"
          ],
          "name": "stderr"
        },
        {
          "output_type": "display_data",
          "data": {
            "image/png": "[encoded data removed]",
            "text/plain": [
              "<Figure size 864x864 with 1 Axes>"
            ]
          },
          "metadata": {
            "tags": []
          }
        }
      ]
    },
    {
      "cell_type": "markdown",
      "metadata": {
        "id": "4psCR877EBTf"
      },
      "source": [
        "### Training and testing the RNN (with ElmO pretrained embeddings)\n",
        "\n",
        "While in the previous example we trained the embeddings from scratch, which lead to inaccurate results (about 10% accuracy), in this example we will use pretrained embeddings extracted from an ElmO pretrained model. In order to introduce this new feature, we need to redesign the embedding module of our model:"
      ]
    },
    {
      "cell_type": "code",
      "metadata": {
        "id": "fB9F6LgFECJm"
      },
      "source": [
        "import tensorflow_hub as hub\n",
        "from keras import backend as K\n",
        "\n",
        "sess = tf.Session()\n",
        "K.set_session(sess)\n",
        "\n",
        "elmo_model = hub.Module(\"https://tfhub.dev/google/elmo/2\", trainable=True)\n",
        "sess.run(tf.global_variables_initializer())\n",
        "sess.run(tf.tables_initializer())\n",
        "\n",
        "def ElmoEmbeddings(x):\n",
        "  return elmo_model(inputs={\n",
        "                            \"tokens\": tf.squeeze(tf.cast(x, tf.string)),\n",
        "                            \"sequence_len\": tf.constant(batch_size*[max_len])\n",
        "                      },\n",
        "                      signature=\"tokens\",\n",
        "                      as_dict=True)[\"elmo\"]"
      ],
      "execution_count": 14,
      "outputs": []
    },
    {
      "cell_type": "markdown",
      "metadata": {
        "id": "TxqRI-IbEEVq"
      },
      "source": [
        "Moreover, we need to change the current format of the input (which is currently a list of integers of variable dimension, each representing a word), in order to be suitable for our new embedding layer. ElmO receives entire sentences in textual form, so that the best representation for each word can be selected depending on the context (polysemy). Thus, we need to define a transformation function, in order to adapt our inputs to the format of the model"
      ]
    },
    {
      "cell_type": "code",
      "metadata": {
        "id": "_ivv5K7-EG7B"
      },
      "source": [
        "def transform_input_to_elmo(input_features,N):\n",
        "  word_indexes=tokenizer.index_word\n",
        "  new_input=[]\n",
        "  for feature in input_features:\n",
        "    word_feature=[]\n",
        "    for i in range(N):\n",
        "      try:\n",
        "        word_feature.append(word_indexes[feature[i]])\n",
        "      except:\n",
        "        word_feature.append(\"_O_\")\n",
        "    new_input.append(word_feature)\n",
        "  return new_input"
      ],
      "execution_count": 15,
      "outputs": []
    },
    {
      "cell_type": "markdown",
      "metadata": {
        "id": "RQrigvxuEJsx"
      },
      "source": [
        "Then, we perform this transformation over our traning and validation sets. "
      ]
    },
    {
      "cell_type": "code",
      "metadata": {
        "id": "VtusBh2eEKQP"
      },
      "source": [
        "elmo_train_features=np.array(transform_input_to_elmo(train_features,max_len))\n",
        "elmo_val_features=np.array(transform_input_to_elmo(val_features,max_len))\n",
        "del train_features\n",
        "del val_features"
      ],
      "execution_count": 16,
      "outputs": []
    },
    {
      "cell_type": "markdown",
      "metadata": {
        "id": "CyKoXFPGEMEu"
      },
      "source": [
        "As the Elmo Embedding layer is dependant on the batch_size we select, we need to define it beforehand and adjust the amount of training and validation elements in order to be multiples of this value."
      ]
    },
    {
      "cell_type": "code",
      "metadata": {
        "id": "zHP_iCSvEOh3"
      },
      "source": [
        "batch_size=32\n",
        "total=int(elmo_train_features.shape[0]-(elmo_train_features.shape[0]%batch_size))\n",
        "elmo_train_features=elmo_train_features[:total]\n",
        "train_labels=train_labels[:total]\n",
        "total=int(elmo_val_features.shape[0]-(elmo_val_features.shape[0]%batch_size))\n",
        "elmo_val_features=elmo_val_features[:total]\n",
        "val_labels=val_labels[:total]"
      ],
      "execution_count": 17,
      "outputs": []
    },
    {
      "cell_type": "markdown",
      "metadata": {
        "id": "ZU66o-BpEP42"
      },
      "source": [
        "Once we have our datasets ready, we can compile the model with the ElmO embedding layer"
      ]
    },
    {
      "cell_type": "code",
      "metadata": {
        "id": "vPSlJ-WhER92",
        "colab": {
          "base_uri": "https://localhost:8080/"
        },
        "outputId": "dcc349c9-6805-4d36-973a-40ea881af8ba"
      },
      "source": [
        "from keras.models import Model, Input\n",
        "from keras.layers.merge import add\n",
        "from keras.layers import LSTM, Embedding, Dense, TimeDistributed, Dropout, Bidirectional, Lambda\n",
        "\n",
        "num_words=len(word_indexes.keys())\n",
        "\n",
        "input_text=Input(shape=(max_len,), dtype=tf.string)\n",
        "\n",
        "embedding= Lambda(ElmoEmbeddings, output_shape=(max_len,1024))(input_text)\n",
        "\n",
        "lstm=LSTM(64, return_sequences=False, \n",
        "               dropout=0.1, recurrent_dropout=0.1)(embedding)\n",
        "\n",
        "dropout=Dropout(rate=0.5)(lstm)\n",
        "\n",
        "dense_1=Dense(64, activation='relu')(dropout)\n",
        "\n",
        "out = Dense(num_words, activation=\"softmax\")(dense_1)\n",
        "\n",
        "model=Model(input_text,out)\n",
        "\n",
        "model.compile(\n",
        "    optimizer='adam', loss='categorical_crossentropy', metrics=['accuracy'])"
      ],
      "execution_count": 18,
      "outputs": [
        {
          "output_type": "stream",
          "text": [
            "INFO:tensorflow:Saver not created because there are no variables in the graph to restore\n"
          ],
          "name": "stdout"
        },
        {
          "output_type": "stream",
          "text": [
            "INFO:tensorflow:Saver not created because there are no variables in the graph to restore\n"
          ],
          "name": "stderr"
        }
      ]
    },
    {
      "cell_type": "markdown",
      "metadata": {
        "id": "mppzL6IEEUfi"
      },
      "source": [
        "Once we have compiled the model, we can train and evaluate it as usual:"
      ]
    },
    {
      "cell_type": "code",
      "metadata": {
        "id": "ysGa2YJFEWAE",
        "colab": {
          "base_uri": "https://localhost:8080/"
        },
        "outputId": "5f22d655-e013-4a6a-85a2-f1147d4ad409"
      },
      "source": [
        "history = model.fit(elmo_train_features,  train_labels, validation_data=(elmo_val_features,val_labels),\n",
        "                    batch_size=32, epochs=10)\n"
      ],
      "execution_count": 19,
      "outputs": [
        {
          "output_type": "stream",
          "text": [
            "WARNING:tensorflow:From /tensorflow-1.15.2/python3.7/keras/backend/tensorflow_backend.py:431: The name tf.is_variable_initialized is deprecated. Please use tf.compat.v1.is_variable_initialized instead.\n",
            "\n"
          ],
          "name": "stdout"
        },
        {
          "output_type": "stream",
          "text": [
            "WARNING:tensorflow:From /tensorflow-1.15.2/python3.7/keras/backend/tensorflow_backend.py:431: The name tf.is_variable_initialized is deprecated. Please use tf.compat.v1.is_variable_initialized instead.\n",
            "\n"
          ],
          "name": "stderr"
        },
        {
          "output_type": "stream",
          "text": [
            "Train on 22720 samples, validate on 7552 samples\n",
            "Epoch 1/10\n",
            "22720/22720 [==============================] - 141s 6ms/step - loss: 7.4227 - accuracy: 0.0714 - val_loss: 7.0742 - val_accuracy: 0.0906\n",
            "Epoch 2/10\n",
            "22720/22720 [==============================] - 123s 5ms/step - loss: 6.5065 - accuracy: 0.1043 - val_loss: 6.8717 - val_accuracy: 0.1226\n",
            "Epoch 3/10\n",
            "22720/22720 [==============================] - 131s 6ms/step - loss: 6.2072 - accuracy: 0.1207 - val_loss: 6.8056 - val_accuracy: 0.1339\n",
            "Epoch 4/10\n",
            "22720/22720 [==============================] - 127s 6ms/step - loss: 6.0222 - accuracy: 0.1286 - val_loss: 6.8134 - val_accuracy: 0.1357\n",
            "Epoch 5/10\n",
            "22720/22720 [==============================] - 131s 6ms/step - loss: 5.8761 - accuracy: 0.1330 - val_loss: 6.8181 - val_accuracy: 0.1422\n",
            "Epoch 6/10\n",
            "22720/22720 [==============================] - 131s 6ms/step - loss: 5.7513 - accuracy: 0.1381 - val_loss: 6.8319 - val_accuracy: 0.1453\n",
            "Epoch 7/10\n",
            "22720/22720 [==============================] - 131s 6ms/step - loss: 5.6538 - accuracy: 0.1397 - val_loss: 6.8938 - val_accuracy: 0.1499\n",
            "Epoch 8/10\n",
            "22720/22720 [==============================] - 131s 6ms/step - loss: 5.5635 - accuracy: 0.1426 - val_loss: 6.9114 - val_accuracy: 0.1535\n",
            "Epoch 9/10\n",
            "22720/22720 [==============================] - 131s 6ms/step - loss: 5.4842 - accuracy: 0.1472 - val_loss: 6.9822 - val_accuracy: 0.1537\n",
            "Epoch 10/10\n",
            "22720/22720 [==============================] - 131s 6ms/step - loss: 5.4148 - accuracy: 0.1499 - val_loss: 7.0241 - val_accuracy: 0.1562\n"
          ],
          "name": "stdout"
        }
      ]
    },
    {
      "cell_type": "markdown",
      "metadata": {
        "id": "aC6JTLblkJ6b"
      },
      "source": [
        "As we previously did, we plot the learning and accuracy curves of the model"
      ]
    },
    {
      "cell_type": "code",
      "metadata": {
        "id": "Ypbk11TTkJJl",
        "colab": {
          "base_uri": "https://localhost:8080/",
          "height": 736
        },
        "outputId": "0e8a7554-97ea-452c-8167-77d3b5bc10cd"
      },
      "source": [
        "import pandas as pd\n",
        "hist = pd.DataFrame(history.history)\n",
        "plt.figure(figsize=(12,12))\n",
        "plt.plot(hist[\"accuracy\"])\n",
        "plt.plot(hist[\"val_accuracy\"])\n",
        "plt.title(\"Learning curves (Accuracies)\")\n",
        "plt.legend()\n",
        "plt.show()"
      ],
      "execution_count": 20,
      "outputs": [
        {
          "output_type": "stream",
          "text": [
            "WARNING:matplotlib.legend:No handles with labels found to put in legend.\n"
          ],
          "name": "stderr"
        },
        {
          "output_type": "display_data",
          "data": {
            "image/png": "[encoded data removed]",
            "text/plain": [
              "<Figure size 864x864 with 1 Axes>"
            ]
          },
          "metadata": {
            "tags": []
          }
        }
      ]
    },
    {
      "cell_type": "code",
      "metadata": {
        "id": "yWRL2nX9obeG",
        "colab": {
          "base_uri": "https://localhost:8080/",
          "height": 736
        },
        "outputId": "93860fa9-bcae-4316-d0ef-418b8b57ef0d"
      },
      "source": [
        "hist = pd.DataFrame(history.history)\n",
        "plt.figure(figsize=(12,12))\n",
        "plt.plot(hist[\"loss\"])\n",
        "plt.plot(hist[\"val_loss\"])\n",
        "plt.title(\"Learning curves (Losses)\")\n",
        "plt.legend()\n",
        "plt.show()"
      ],
      "execution_count": 21,
      "outputs": [
        {
          "output_type": "stream",
          "text": [
            "WARNING:matplotlib.legend:No handles with labels found to put in legend.\n"
          ],
          "name": "stderr"
        },
        {
          "output_type": "display_data",
          "data": {
            "image/png": "[encoded data removed]",
            "text/plain": [
              "<Figure size 864x864 with 1 Axes>"
            ]
          },
          "metadata": {
            "tags": []
          }
        }
      ]
    },
    {
      "cell_type": "markdown",
      "metadata": {
        "id": "xzDq6q5cquEd"
      },
      "source": [
        "As mentioned previously, this model only accepts **FIX SIZED** inputs. Thus, if we want to predict over a single sentence, we need to generate 31 'mock' sentences composed by padding in order to meet these dimensionality constraints:"
      ]
    },
    {
      "cell_type": "code",
      "metadata": {
        "id": "1bZ1EWbTrAY7",
        "colab": {
          "base_uri": "https://localhost:8080/"
        },
        "outputId": "e2feef2d-c88a-475c-c530-8bc9b6b5102a"
      },
      "source": [
        "X=['There is a keyboard']\n",
        "input_text=tokenizer.texts_to_sequences(X)\n",
        "elmo_input=transform_input_to_elmo(input_text,max_len)\n",
        "padded_input=31*[max_len*['_O_']]\n",
        "padded_input=np.array(elmo_input+padded_input)\n",
        "prediction=np.argmax(model.predict(padded_input)[0])\n",
        "word_prediction=word_indexes[prediction]\n",
        "print(word_prediction)"
      ],
      "execution_count": 22,
      "outputs": [
        {
          "output_type": "stream",
          "text": [
            "and\n"
          ],
          "name": "stdout"
        }
      ]
    }
  ]
}