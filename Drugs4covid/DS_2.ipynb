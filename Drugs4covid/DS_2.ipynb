{
  "nbformat": 4,
  "nbformat_minor": 0,
  "metadata": {
    "colab": {
      "name": "DS-2",
      "provenance": [],
      "toc_visible": true
    },
    "kernelspec": {
      "name": "python3",
      "display_name": "Python 3"
    }
  },
  "cells": [
    {
      "cell_type": "markdown",
      "metadata": {
        "id": "s3A1eiMtrRO4"
      },
      "source": [
        "# Loading"
      ]
    },
    {
      "cell_type": "code",
      "metadata": {
        "colab": {
          "base_uri": "https://localhost:8080/",
          "height": 279
        },
        "id": "vFUlaVm-pT-N",
        "outputId": "93e49319-1463-490b-8978-95f5404192bb"
      },
      "source": [
        "import requests\r\n",
        "import json\r\n",
        "import pandas as pd\r\n",
        "\r\n",
        "#increase the max column length\r\n",
        "pd.set_option('display.max_colwidth', 200)\r\n",
        "\r\n",
        "corpus_df = pd.read_csv('https://www.dropbox.com/s/pag5jseq2e9wcvb/corpus.csv?raw=1',usecols=['title','text'])\r\n",
        "\r\n",
        "length =corpus_df.shape[0]\r\n",
        "corpus_df.head()"
      ],
      "execution_count": null,
      "outputs": [
        {
          "output_type": "execute_result",
          "data": {
            "text/html": [
              "<div>\n",
              "<style scoped>\n",
              "    .dataframe tbody tr th:only-of-type {\n",
              "        vertical-align: middle;\n",
              "    }\n",
              "\n",
              "    .dataframe tbody tr th {\n",
              "        vertical-align: top;\n",
              "    }\n",
              "\n",
              "    .dataframe thead th {\n",
              "        text-align: right;\n",
              "    }\n",
              "</style>\n",
              "<table border=\"1\" class=\"dataframe\">\n",
              "  <thead>\n",
              "    <tr style=\"text-align: right;\">\n",
              "      <th></th>\n",
              "      <th>title</th>\n",
              "      <th>text</th>\n",
              "    </tr>\n",
              "  </thead>\n",
              "  <tbody>\n",
              "    <tr>\n",
              "      <th>0</th>\n",
              "      <td>Cross-Evaluation of Term Extraction Tools by Measuring Terminological Saturation</td>\n",
              "      <td>Synopsis of the Refinements and Extensions  Compared to the Publication in the Conference Proceedings  This submission is a refined and extended paper based on the ICTERI 2017 PhD  Symposium paper...</td>\n",
              "    </tr>\n",
              "    <tr>\n",
              "      <th>1</th>\n",
              "      <td>Enhancing Public Procurement in the European Union through Constructing and Exploiting an Integrated Knowledge Graph</td>\n",
              "      <td>Enhancing Public Procurement in the European Union through Constructing and Exploiting an Integrated Knowledge Graph Ahmet Soylu1, Oscar Corcho2, Brian Elvesæter1, Carlos Badenes-Olmedo2, Francisc...</td>\n",
              "    </tr>\n",
              "    <tr>\n",
              "      <th>2</th>\n",
              "      <td>Drugs4Covid: Making drug information available from scientific publications</td>\n",
              "      <td>Drugs4Covid: Making drug information available from scientific publications Carlos Badenes-Olmedo1, David Chaves-Fraga1, Mar´ıa Poveda-Villal´on1, Ana Iglesias-Molina1, Pablo Calleja1, Socorro Ber...</td>\n",
              "    </tr>\n",
              "    <tr>\n",
              "      <th>3</th>\n",
              "      <td>Distributing Text Mining tasks with librAIry</td>\n",
              "      <td>Distributing Text Mining tasks with librAIry Carlos Badenes-Olmedo cbadenes@f.upm.es Universidad Polit´ecnica de Madrid Ontology Engineering Group Boadilla del Monte, Spain Jos´e Luis Redondo-Garc...</td>\n",
              "    </tr>\n",
              "    <tr>\n",
              "      <th>4</th>\n",
              "      <td>Large-Scale Semantic Exploration of Scientific Literature using Topic-based Hashing Algorithms</td>\n",
              "      <td>Semantic Web 0 (0) 1 1 IOS Press Large-Scale Semantic Exploration of Scientific Literature using Topic-based Hashing Algorithms Editor(s): Tomi Kauppinen, Aalto University, Finland; Daniel Garijo,...</td>\n",
              "    </tr>\n",
              "  </tbody>\n",
              "</table>\n",
              "</div>"
            ],
            "text/plain": [
              "                                                                                                                  title                                                                                                                                                                                                     text\n",
              "0                                      Cross-Evaluation of Term Extraction Tools by Measuring Terminological Saturation  Synopsis of the Refinements and Extensions  Compared to the Publication in the Conference Proceedings  This submission is a refined and extended paper based on the ICTERI 2017 PhD  Symposium paper...\n",
              "1  Enhancing Public Procurement in the European Union through Constructing and Exploiting an Integrated Knowledge Graph  Enhancing Public Procurement in the European Union through Constructing and Exploiting an Integrated Knowledge Graph Ahmet Soylu1, Oscar Corcho2, Brian Elvesæter1, Carlos Badenes-Olmedo2, Francisc...\n",
              "2                                           Drugs4Covid: Making drug information available from scientific publications  Drugs4Covid: Making drug information available from scientific publications Carlos Badenes-Olmedo1, David Chaves-Fraga1, Mar´ıa Poveda-Villal´on1, Ana Iglesias-Molina1, Pablo Calleja1, Socorro Ber...\n",
              "3                                                                          Distributing Text Mining tasks with librAIry  Distributing Text Mining tasks with librAIry Carlos Badenes-Olmedo cbadenes@f.upm.es Universidad Polit´ecnica de Madrid Ontology Engineering Group Boadilla del Monte, Spain Jos´e Luis Redondo-Garc...\n",
              "4                        Large-Scale Semantic Exploration of Scientific Literature using Topic-based Hashing Algorithms  Semantic Web 0 (0) 1 1 IOS Press Large-Scale Semantic Exploration of Scientific Literature using Topic-based Hashing Algorithms Editor(s): Tomi Kauppinen, Aalto University, Finland; Daniel Garijo,..."
            ]
          },
          "metadata": {
            "tags": []
          },
          "execution_count": 1
        }
      ]
    },
    {
      "cell_type": "markdown",
      "metadata": {
        "id": "hUI5fYYVrb3n"
      },
      "source": [
        "# Preprocessing"
      ]
    },
    {
      "cell_type": "markdown",
      "metadata": {
        "id": "EwC7x9fWABkh"
      },
      "source": [
        "Change: adding a stemmer to get similar terms grouped together\r\n",
        "\r\n",
        "Change: also tokenizing the title"
      ]
    },
    {
      "cell_type": "code",
      "metadata": {
        "colab": {
          "base_uri": "https://localhost:8080/",
          "height": 447
        },
        "id": "5pnqgEl4pqQ4",
        "outputId": "7d20680a-ca0f-4a3b-f0f3-7a511ff5d053"
      },
      "source": [
        "import spacy\r\n",
        "from spacy.tokenizer import Tokenizer\r\n",
        "from spacy.lang.en import English\r\n",
        "from nltk.stem.porter import *\r\n",
        "\r\n",
        "def is_valid(token):\r\n",
        "  return len(token.text) > 1 and not token.is_digit and not token.is_stop\r\n",
        "\r\n",
        "nlp = spacy.load(\"en_core_web_sm\")\r\n",
        "stemmer = PorterStemmer()\r\n",
        "\r\n",
        "def preprocess(text):\r\n",
        "  tokens = []\r\n",
        "  for token in nlp(text):\r\n",
        "    if is_valid(token):\r\n",
        "      word = stemmer.stem(token.lemma_)\r\n",
        "      tokens.append(word)\r\n",
        "  return tokens\r\n",
        "\r\n",
        "corpus_df[\"tokens\"] = corpus_df['title'].apply(preprocess)\r\n",
        "corpus_df['tokens'] += corpus_df['text'].apply(preprocess)\r\n",
        "\r\n",
        "corpus_df.head()"
      ],
      "execution_count": null,
      "outputs": [
        {
          "output_type": "execute_result",
          "data": {
            "text/html": [
              "<div>\n",
              "<style scoped>\n",
              "    .dataframe tbody tr th:only-of-type {\n",
              "        vertical-align: middle;\n",
              "    }\n",
              "\n",
              "    .dataframe tbody tr th {\n",
              "        vertical-align: top;\n",
              "    }\n",
              "\n",
              "    .dataframe thead th {\n",
              "        text-align: right;\n",
              "    }\n",
              "</style>\n",
              "<table border=\"1\" class=\"dataframe\">\n",
              "  <thead>\n",
              "    <tr style=\"text-align: right;\">\n",
              "      <th></th>\n",
              "      <th>title</th>\n",
              "      <th>text</th>\n",
              "      <th>tokens</th>\n",
              "    </tr>\n",
              "  </thead>\n",
              "  <tbody>\n",
              "    <tr>\n",
              "      <th>0</th>\n",
              "      <td>Cross-Evaluation of Term Extraction Tools by Measuring Terminological Saturation</td>\n",
              "      <td>Synopsis of the Refinements and Extensions  Compared to the Publication in the Conference Proceedings  This submission is a refined and extended paper based on the ICTERI 2017 PhD  Symposium paper...</td>\n",
              "      <td>[cross, evalu, term, extract, tool, measur, terminolog, satur, synopsi, refin, extens, compar, public, confer, proceed, submiss, refin, extend, paper, base, icteri, phd, symposium, paper, kosa, et...</td>\n",
              "    </tr>\n",
              "    <tr>\n",
              "      <th>1</th>\n",
              "      <td>Enhancing Public Procurement in the European Union through Constructing and Exploiting an Integrated Knowledge Graph</td>\n",
              "      <td>Enhancing Public Procurement in the European Union through Constructing and Exploiting an Integrated Knowledge Graph Ahmet Soylu1, Oscar Corcho2, Brian Elvesæter1, Carlos Badenes-Olmedo2, Francisc...</td>\n",
              "      <td>[enhanc, public, procur, european, union, construct, exploit, integr, knowledg, graph, enhanc, public, procur, european, union, construct, exploit, integr, knowledg, graph, ahmet, soylu1, oscar, c...</td>\n",
              "    </tr>\n",
              "    <tr>\n",
              "      <th>2</th>\n",
              "      <td>Drugs4Covid: Making drug information available from scientific publications</td>\n",
              "      <td>Drugs4Covid: Making drug information available from scientific publications Carlos Badenes-Olmedo1, David Chaves-Fraga1, Mar´ıa Poveda-Villal´on1, Ana Iglesias-Molina1, Pablo Calleja1, Socorro Ber...</td>\n",
              "      <td>[drugs4covid, make, drug, inform, avail, scientif, public, drugs4covid, make, drug, inform, avail, scientif, public, carlo, baden, olmedo1, david, chave, fraga1, mar´ıa, poveda, villal´on1, ana, i...</td>\n",
              "    </tr>\n",
              "    <tr>\n",
              "      <th>3</th>\n",
              "      <td>Distributing Text Mining tasks with librAIry</td>\n",
              "      <td>Distributing Text Mining tasks with librAIry Carlos Badenes-Olmedo cbadenes@f.upm.es Universidad Polit´ecnica de Madrid Ontology Engineering Group Boadilla del Monte, Spain Jos´e Luis Redondo-Garc...</td>\n",
              "      <td>[distribut, text, mine, task, librairi, distribut, text, mine, task, librairi, carlo, baden, olmedo, cbadenes@f.upm., universidad, polit´ecnica, de, madrid, ontolog, engin, group, boadilla, del, m...</td>\n",
              "    </tr>\n",
              "    <tr>\n",
              "      <th>4</th>\n",
              "      <td>Large-Scale Semantic Exploration of Scientific Literature using Topic-based Hashing Algorithms</td>\n",
              "      <td>Semantic Web 0 (0) 1 1 IOS Press Large-Scale Semantic Exploration of Scientific Literature using Topic-based Hashing Algorithms Editor(s): Tomi Kauppinen, Aalto University, Finland; Daniel Garijo,...</td>\n",
              "      <td>[larg, scale, semant, explor, scientif, literatur, topic, base, hash, algorithm, semant, web, io, press, larg, scale, semant, explor, scientif, literatur, topic, base, hash, algorithm, editor(, to...</td>\n",
              "    </tr>\n",
              "  </tbody>\n",
              "</table>\n",
              "</div>"
            ],
            "text/plain": [
              "                                                                                                                  title  ...                                                                                                                                                                                                   tokens\n",
              "0                                      Cross-Evaluation of Term Extraction Tools by Measuring Terminological Saturation  ...  [cross, evalu, term, extract, tool, measur, terminolog, satur, synopsi, refin, extens, compar, public, confer, proceed, submiss, refin, extend, paper, base, icteri, phd, symposium, paper, kosa, et...\n",
              "1  Enhancing Public Procurement in the European Union through Constructing and Exploiting an Integrated Knowledge Graph  ...  [enhanc, public, procur, european, union, construct, exploit, integr, knowledg, graph, enhanc, public, procur, european, union, construct, exploit, integr, knowledg, graph, ahmet, soylu1, oscar, c...\n",
              "2                                           Drugs4Covid: Making drug information available from scientific publications  ...  [drugs4covid, make, drug, inform, avail, scientif, public, drugs4covid, make, drug, inform, avail, scientif, public, carlo, baden, olmedo1, david, chave, fraga1, mar´ıa, poveda, villal´on1, ana, i...\n",
              "3                                                                          Distributing Text Mining tasks with librAIry  ...  [distribut, text, mine, task, librairi, distribut, text, mine, task, librairi, carlo, baden, olmedo, cbadenes@f.upm., universidad, polit´ecnica, de, madrid, ontolog, engin, group, boadilla, del, m...\n",
              "4                        Large-Scale Semantic Exploration of Scientific Literature using Topic-based Hashing Algorithms  ...  [larg, scale, semant, explor, scientif, literatur, topic, base, hash, algorithm, semant, web, io, press, larg, scale, semant, explor, scientif, literatur, topic, base, hash, algorithm, editor(, to...\n",
              "\n",
              "[5 rows x 3 columns]"
            ]
          },
          "metadata": {
            "tags": []
          },
          "execution_count": 2
        }
      ]
    },
    {
      "cell_type": "markdown",
      "metadata": {
        "id": "VOxhAIO7sPe2"
      },
      "source": [
        "# TF-IDF "
      ]
    },
    {
      "cell_type": "markdown",
      "metadata": {
        "id": "Y7gGUfg3ajHY"
      },
      "source": [
        "TF-IDF calculates the relative importance of a term for a document, based on the number of times the term appears in the document itself (term frequency - TF) and the number of documents in the corpus, which contain the term (document frequency - DF)\r\n",
        "\r\n",
        "Cons:\r\n",
        "\r\n",
        "1.   Context around the words is not detected\r\n",
        "\r\n"
      ]
    },
    {
      "cell_type": "code",
      "metadata": {
        "colab": {
          "base_uri": "https://localhost:8080/",
          "height": 598
        },
        "id": "NfTky0THsVNu",
        "outputId": "49862472-bf91-45fd-e139-7ce455d7c25b"
      },
      "source": [
        "from collections import defaultdict\r\n",
        "from nltk.text import TextCollection\r\n",
        "\r\n",
        "texts  = TextCollection(corpus_df['tokens'])\r\n",
        "vectors = []\r\n",
        "\r\n",
        "for doc in corpus_df['tokens']:\r\n",
        "  features = defaultdict(int)\r\n",
        "  for term in doc:\r\n",
        "    features[term]=texts.tf_idf(term, doc)\r\n",
        "  vectors.append(features)\r\n",
        "\r\n",
        "corpus_df['tf-idf'] = vectors\r\n",
        "corpus_df.head()"
      ],
      "execution_count": null,
      "outputs": [
        {
          "output_type": "execute_result",
          "data": {
            "text/html": [
              "<div>\n",
              "<style scoped>\n",
              "    .dataframe tbody tr th:only-of-type {\n",
              "        vertical-align: middle;\n",
              "    }\n",
              "\n",
              "    .dataframe tbody tr th {\n",
              "        vertical-align: top;\n",
              "    }\n",
              "\n",
              "    .dataframe thead th {\n",
              "        text-align: right;\n",
              "    }\n",
              "</style>\n",
              "<table border=\"1\" class=\"dataframe\">\n",
              "  <thead>\n",
              "    <tr style=\"text-align: right;\">\n",
              "      <th></th>\n",
              "      <th>title</th>\n",
              "      <th>text</th>\n",
              "      <th>tokens</th>\n",
              "      <th>tf-idf</th>\n",
              "    </tr>\n",
              "  </thead>\n",
              "  <tbody>\n",
              "    <tr>\n",
              "      <th>0</th>\n",
              "      <td>Cross-Evaluation of Term Extraction Tools by Measuring Terminological Saturation</td>\n",
              "      <td>Synopsis of the Refinements and Extensions  Compared to the Publication in the Conference Proceedings  This submission is a refined and extended paper based on the ICTERI 2017 PhD  Symposium paper...</td>\n",
              "      <td>[cross, evalu, term, extract, tool, measur, terminolog, satur, synopsi, refin, extens, compar, public, confer, proceed, submiss, refin, extend, paper, base, icteri, phd, symposium, paper, kosa, et...</td>\n",
              "      <td>{'cross': 0.0008525532959078879, 'evalu': 0.0010744572670414395, 'term': 0.0, 'extract': 0.009039702474861145, 'tool': 0.003630116741873373, 'measur': 0.006548445887300987, 'terminolog': 0.0118674...</td>\n",
              "    </tr>\n",
              "    <tr>\n",
              "      <th>1</th>\n",
              "      <td>Enhancing Public Procurement in the European Union through Constructing and Exploiting an Integrated Knowledge Graph</td>\n",
              "      <td>Enhancing Public Procurement in the European Union through Constructing and Exploiting an Integrated Knowledge Graph Ahmet Soylu1, Oscar Corcho2, Brian Elvesæter1, Carlos Badenes-Olmedo2, Francisc...</td>\n",
              "      <td>[enhanc, public, procur, european, union, construct, exploit, integr, knowledg, graph, enhanc, public, procur, european, union, construct, exploit, integr, knowledg, graph, ahmet, soylu1, oscar, c...</td>\n",
              "      <td>{'enhanc': 0.005489528400065187, 'public': 0.007984810058742447, 'procur': 0.043521518417300634, 'european': 0.0011908273166532537, 'union': 0.0014806804913326697, 'construct': 0.00228211296978383...</td>\n",
              "    </tr>\n",
              "    <tr>\n",
              "      <th>2</th>\n",
              "      <td>Drugs4Covid: Making drug information available from scientific publications</td>\n",
              "      <td>Drugs4Covid: Making drug information available from scientific publications Carlos Badenes-Olmedo1, David Chaves-Fraga1, Mar´ıa Poveda-Villal´on1, Ana Iglesias-Molina1, Pablo Calleja1, Socorro Ber...</td>\n",
              "      <td>[drugs4covid, make, drug, inform, avail, scientif, public, drugs4covid, make, drug, inform, avail, scientif, public, carlo, baden, olmedo1, david, chave, fraga1, mar´ıa, poveda, villal´on1, ana, i...</td>\n",
              "      <td>{'drugs4covid': 0.018349366948258117, 'make': 0.00029242766861206117, 'drug': 0.03913563113495007, 'inform': 0.0, 'avail': 0.0003792569138219235, 'scientif': 0.0049542744373601705, 'public': 0.002...</td>\n",
              "    </tr>\n",
              "    <tr>\n",
              "      <th>3</th>\n",
              "      <td>Distributing Text Mining tasks with librAIry</td>\n",
              "      <td>Distributing Text Mining tasks with librAIry Carlos Badenes-Olmedo cbadenes@f.upm.es Universidad Polit´ecnica de Madrid Ontology Engineering Group Boadilla del Monte, Spain Jos´e Luis Redondo-Garc...</td>\n",
              "      <td>[distribut, text, mine, task, librairi, distribut, text, mine, task, librairi, carlo, baden, olmedo, cbadenes@f.upm., universidad, polit´ecnica, de, madrid, ontolog, engin, group, boadilla, del, m...</td>\n",
              "      <td>{'distribut': 0.0005788067599452932, 'text': 0.0009003660710260116, 'mine': 0.0015249160720076154, 'task': 0.0009478372930061125, 'librairi': 0.005725979251001631, 'carlo': 6.431186221614367e-05, ...</td>\n",
              "    </tr>\n",
              "    <tr>\n",
              "      <th>4</th>\n",
              "      <td>Large-Scale Semantic Exploration of Scientific Literature using Topic-based Hashing Algorithms</td>\n",
              "      <td>Semantic Web 0 (0) 1 1 IOS Press Large-Scale Semantic Exploration of Scientific Literature using Topic-based Hashing Algorithms Editor(s): Tomi Kauppinen, Aalto University, Finland; Daniel Garijo,...</td>\n",
              "      <td>[larg, scale, semant, explor, scientif, literatur, topic, base, hash, algorithm, semant, web, io, press, larg, scale, semant, explor, scientif, literatur, topic, base, hash, algorithm, editor(, to...</td>\n",
              "      <td>{'larg': 0.00046468098343569044, 'scale': 0.0004537994030901811, 'semant': 0.0002546584782801699, 'explor': 0.0004289362924021758, 'scientif': 0.0012613477701726682, 'literatur': 0.000561779380380...</td>\n",
              "    </tr>\n",
              "  </tbody>\n",
              "</table>\n",
              "</div>"
            ],
            "text/plain": [
              "                                                                                                                  title  ...                                                                                                                                                                                                   tf-idf\n",
              "0                                      Cross-Evaluation of Term Extraction Tools by Measuring Terminological Saturation  ...  {'cross': 0.0008525532959078879, 'evalu': 0.0010744572670414395, 'term': 0.0, 'extract': 0.009039702474861145, 'tool': 0.003630116741873373, 'measur': 0.006548445887300987, 'terminolog': 0.0118674...\n",
              "1  Enhancing Public Procurement in the European Union through Constructing and Exploiting an Integrated Knowledge Graph  ...  {'enhanc': 0.005489528400065187, 'public': 0.007984810058742447, 'procur': 0.043521518417300634, 'european': 0.0011908273166532537, 'union': 0.0014806804913326697, 'construct': 0.00228211296978383...\n",
              "2                                           Drugs4Covid: Making drug information available from scientific publications  ...  {'drugs4covid': 0.018349366948258117, 'make': 0.00029242766861206117, 'drug': 0.03913563113495007, 'inform': 0.0, 'avail': 0.0003792569138219235, 'scientif': 0.0049542744373601705, 'public': 0.002...\n",
              "3                                                                          Distributing Text Mining tasks with librAIry  ...  {'distribut': 0.0005788067599452932, 'text': 0.0009003660710260116, 'mine': 0.0015249160720076154, 'task': 0.0009478372930061125, 'librairi': 0.005725979251001631, 'carlo': 6.431186221614367e-05, ...\n",
              "4                        Large-Scale Semantic Exploration of Scientific Literature using Topic-based Hashing Algorithms  ...  {'larg': 0.00046468098343569044, 'scale': 0.0004537994030901811, 'semant': 0.0002546584782801699, 'explor': 0.0004289362924021758, 'scientif': 0.0012613477701726682, 'literatur': 0.000561779380380...\n",
              "\n",
              "[5 rows x 4 columns]"
            ]
          },
          "metadata": {
            "tags": []
          },
          "execution_count": 3
        }
      ]
    },
    {
      "cell_type": "markdown",
      "metadata": {
        "id": "f5q8Mj3YgE_c"
      },
      "source": [
        "# Doc2Vector"
      ]
    },
    {
      "cell_type": "markdown",
      "metadata": {
        "id": "57GpDkDuX0Eh"
      },
      "source": [
        "Pros:\r\n",
        "1.   It takes into consideration the ordering of words within a narrow context, similar to an n-gram model\r\n",
        "2.   The combined result generalizes and has a lower dimensionality\r\n",
        "\r\n",
        "Cons:\r\n",
        "\r\n",
        "1. Importance of the terms is not taken into account"
      ]
    },
    {
      "cell_type": "code",
      "metadata": {
        "colab": {
          "base_uri": "https://localhost:8080/",
          "height": 632
        },
        "id": "5G1Ic3pzV_5J",
        "outputId": "ec0d2582-2168-48be-e28c-c2366894afb7"
      },
      "source": [
        "from gensim.models.doc2vec import TaggedDocument, Doc2Vec\r\n",
        "\r\n",
        "documents = [TaggedDocument(doc, [i]) for i, doc in enumerate(corpus_df['tokens'])]\r\n",
        "model = Doc2Vec(documents, vector_size=5, min_count=0, window=2, workers=4)\r\n",
        "\r\n",
        "docvecs = []\r\n",
        "for pos in range(length):\r\n",
        "  docvecs.append(model.docvecs[pos])\r\n",
        "\r\n",
        "corpus_df['d2v'] = docvecs\r\n",
        "corpus_df.head()"
      ],
      "execution_count": null,
      "outputs": [
        {
          "output_type": "execute_result",
          "data": {
            "text/html": [
              "<div>\n",
              "<style scoped>\n",
              "    .dataframe tbody tr th:only-of-type {\n",
              "        vertical-align: middle;\n",
              "    }\n",
              "\n",
              "    .dataframe tbody tr th {\n",
              "        vertical-align: top;\n",
              "    }\n",
              "\n",
              "    .dataframe thead th {\n",
              "        text-align: right;\n",
              "    }\n",
              "</style>\n",
              "<table border=\"1\" class=\"dataframe\">\n",
              "  <thead>\n",
              "    <tr style=\"text-align: right;\">\n",
              "      <th></th>\n",
              "      <th>title</th>\n",
              "      <th>text</th>\n",
              "      <th>tokens</th>\n",
              "      <th>tf-idf</th>\n",
              "      <th>d2v</th>\n",
              "    </tr>\n",
              "  </thead>\n",
              "  <tbody>\n",
              "    <tr>\n",
              "      <th>0</th>\n",
              "      <td>Cross-Evaluation of Term Extraction Tools by Measuring Terminological Saturation</td>\n",
              "      <td>Synopsis of the Refinements and Extensions  Compared to the Publication in the Conference Proceedings  This submission is a refined and extended paper based on the ICTERI 2017 PhD  Symposium paper...</td>\n",
              "      <td>[cross, evalu, term, extract, tool, measur, terminolog, satur, synopsi, refin, extens, compar, public, confer, proceed, submiss, refin, extend, paper, base, icteri, phd, symposium, paper, kosa, et...</td>\n",
              "      <td>{'cross': 0.0008525532959078879, 'evalu': 0.0010744572670414395, 'term': 0.0, 'extract': 0.009039702474861145, 'tool': 0.003630116741873373, 'measur': 0.006548445887300987, 'terminolog': 0.0118674...</td>\n",
              "      <td>[-11.09809, 13.234375, -0.89116114, -1.018338, -11.218707]</td>\n",
              "    </tr>\n",
              "    <tr>\n",
              "      <th>1</th>\n",
              "      <td>Enhancing Public Procurement in the European Union through Constructing and Exploiting an Integrated Knowledge Graph</td>\n",
              "      <td>Enhancing Public Procurement in the European Union through Constructing and Exploiting an Integrated Knowledge Graph Ahmet Soylu1, Oscar Corcho2, Brian Elvesæter1, Carlos Badenes-Olmedo2, Francisc...</td>\n",
              "      <td>[enhanc, public, procur, european, union, construct, exploit, integr, knowledg, graph, enhanc, public, procur, european, union, construct, exploit, integr, knowledg, graph, ahmet, soylu1, oscar, c...</td>\n",
              "      <td>{'enhanc': 0.005489528400065187, 'public': 0.007984810058742447, 'procur': 0.043521518417300634, 'european': 0.0011908273166532537, 'union': 0.0014806804913326697, 'construct': 0.00228211296978383...</td>\n",
              "      <td>[-8.81651, 14.339468, 0.6958606, -0.16466422, -1.2553015]</td>\n",
              "    </tr>\n",
              "    <tr>\n",
              "      <th>2</th>\n",
              "      <td>Drugs4Covid: Making drug information available from scientific publications</td>\n",
              "      <td>Drugs4Covid: Making drug information available from scientific publications Carlos Badenes-Olmedo1, David Chaves-Fraga1, Mar´ıa Poveda-Villal´on1, Ana Iglesias-Molina1, Pablo Calleja1, Socorro Ber...</td>\n",
              "      <td>[drugs4covid, make, drug, inform, avail, scientif, public, drugs4covid, make, drug, inform, avail, scientif, public, carlo, baden, olmedo1, david, chave, fraga1, mar´ıa, poveda, villal´on1, ana, i...</td>\n",
              "      <td>{'drugs4covid': 0.018349366948258117, 'make': 0.00029242766861206117, 'drug': 0.03913563113495007, 'inform': 0.0, 'avail': 0.0003792569138219235, 'scientif': 0.0049542744373601705, 'public': 0.002...</td>\n",
              "      <td>[-6.0409255, 13.622596, -0.20537792, -0.8264259, 1.3080983]</td>\n",
              "    </tr>\n",
              "    <tr>\n",
              "      <th>3</th>\n",
              "      <td>Distributing Text Mining tasks with librAIry</td>\n",
              "      <td>Distributing Text Mining tasks with librAIry Carlos Badenes-Olmedo cbadenes@f.upm.es Universidad Polit´ecnica de Madrid Ontology Engineering Group Boadilla del Monte, Spain Jos´e Luis Redondo-Garc...</td>\n",
              "      <td>[distribut, text, mine, task, librairi, distribut, text, mine, task, librairi, carlo, baden, olmedo, cbadenes@f.upm., universidad, polit´ecnica, de, madrid, ontolog, engin, group, boadilla, del, m...</td>\n",
              "      <td>{'distribut': 0.0005788067599452932, 'text': 0.0009003660710260116, 'mine': 0.0015249160720076154, 'task': 0.0009478372930061125, 'librairi': 0.005725979251001631, 'carlo': 6.431186221614367e-05, ...</td>\n",
              "      <td>[-6.459851, 12.050546, -0.52066594, -1.0036011, -0.20109762]</td>\n",
              "    </tr>\n",
              "    <tr>\n",
              "      <th>4</th>\n",
              "      <td>Large-Scale Semantic Exploration of Scientific Literature using Topic-based Hashing Algorithms</td>\n",
              "      <td>Semantic Web 0 (0) 1 1 IOS Press Large-Scale Semantic Exploration of Scientific Literature using Topic-based Hashing Algorithms Editor(s): Tomi Kauppinen, Aalto University, Finland; Daniel Garijo,...</td>\n",
              "      <td>[larg, scale, semant, explor, scientif, literatur, topic, base, hash, algorithm, semant, web, io, press, larg, scale, semant, explor, scientif, literatur, topic, base, hash, algorithm, editor(, to...</td>\n",
              "      <td>{'larg': 0.00046468098343569044, 'scale': 0.0004537994030901811, 'semant': 0.0002546584782801699, 'explor': 0.0004289362924021758, 'scientif': 0.0012613477701726682, 'literatur': 0.000561779380380...</td>\n",
              "      <td>[-7.239603, 14.807331, -2.3573773, -1.5848103, 5.0019665]</td>\n",
              "    </tr>\n",
              "  </tbody>\n",
              "</table>\n",
              "</div>"
            ],
            "text/plain": [
              "                                                                                                                  title  ...                                                           d2v\n",
              "0                                      Cross-Evaluation of Term Extraction Tools by Measuring Terminological Saturation  ...    [-11.09809, 13.234375, -0.89116114, -1.018338, -11.218707]\n",
              "1  Enhancing Public Procurement in the European Union through Constructing and Exploiting an Integrated Knowledge Graph  ...     [-8.81651, 14.339468, 0.6958606, -0.16466422, -1.2553015]\n",
              "2                                           Drugs4Covid: Making drug information available from scientific publications  ...   [-6.0409255, 13.622596, -0.20537792, -0.8264259, 1.3080983]\n",
              "3                                                                          Distributing Text Mining tasks with librAIry  ...  [-6.459851, 12.050546, -0.52066594, -1.0036011, -0.20109762]\n",
              "4                        Large-Scale Semantic Exploration of Scientific Literature using Topic-based Hashing Algorithms  ...     [-7.239603, 14.807331, -2.3573773, -1.5848103, 5.0019665]\n",
              "\n",
              "[5 rows x 5 columns]"
            ]
          },
          "metadata": {
            "tags": []
          },
          "execution_count": 5
        }
      ]
    },
    {
      "cell_type": "markdown",
      "metadata": {
        "id": "RtHwFpLT2Wh6"
      },
      "source": [
        "#Final model"
      ]
    },
    {
      "cell_type": "markdown",
      "metadata": {
        "id": "y8D3vRMaaw0j"
      },
      "source": [
        "Combining tf-idf with word sequences"
      ]
    },
    {
      "cell_type": "code",
      "metadata": {
        "colab": {
          "base_uri": "https://localhost:8080/"
        },
        "id": "9_n6lFi92ZxU",
        "outputId": "377d1b31-3e72-4fce-a2c7-0acde6ceeb46"
      },
      "source": [
        "import math\r\n",
        "from scipy import spatial\r\n",
        "\r\n",
        "def importance(x,dic,dic2):\r\n",
        "  score = dic[x]**2 + dic2[x]**2\r\n",
        "  #score = dic[x]*dic2[x]\r\n",
        "  #score = (dic[x]+dic2[x])/abs(dic[x]-dic2[x])\r\n",
        "  return math.sqrt(score)\r\n",
        "\r\n",
        "for pos in range(length):\r\n",
        "  dic = corpus_df[\"tf-idf\"][pos]\r\n",
        "  vector = corpus_df[\"d2v\"][pos]\r\n",
        "  result=[]\r\n",
        "  \r\n",
        "  for pos2 in range(length):\r\n",
        "    dic2 = corpus_df[\"tf-idf\"][pos2]\r\n",
        "    score=0\r\n",
        "    \r\n",
        "    for x in dic:\r\n",
        "      if x in dic2:\r\n",
        "        score += importance(x,dic,dic2)\r\n",
        "        continue\r\n",
        "\r\n",
        "    similarity = 1- spatial.distance.cosine(vector, corpus_df[\"d2v\"][pos2]) \r\n",
        "    result.append([corpus_df[\"title\"][pos2], score*similarity])\r\n",
        "\r\n",
        "  result.sort(key=lambda x:x[1],reverse=True)\r\n",
        "  print(corpus_df[\"title\"][pos])\r\n",
        "  for x in result:\r\n",
        "    print(x[0],\":\",x[1])\r\n",
        "  print(\"_____________________________________________________________________________________\")"
      ],
      "execution_count": null,
      "outputs": [
        {
          "output_type": "stream",
          "text": [
            "Cross-Evaluation of Term Extraction Tools by Measuring Terminological Saturation\n",
            "Cross-Evaluation of Term Extraction Tools by Measuring Terminological Saturation : 1.3878805463235038\n",
            "Semantic Saturation in Retrospective Text Document  Collections : 0.6024896789620394\n",
            "Enhancing Public Procurement in the European Union through Constructing and Exploiting an Integrated Knowledge Graph : 0.27306372824701103\n",
            "Drugs4Covid: Making drug information available from scientific publications : 0.24544624361459577\n",
            "Large-Scale Semantic Exploration of Scientific Literature using Topic-based Hashing Algorithms : 0.2293212707536847\n",
            "Efficient Clustering from Distributions over Topics : 0.21369515001332887\n",
            "Scalable Cross-lingual Document Similarity through Language-specific Concept Hierarchies : 0.20896840660942304\n",
            "An initial Analysis of Topic-based Similarity among Scientific Documents based on their Rhetorical Discourse Parts : 0.2029907912913551\n",
            "Legal Documents Retrieval Across Languages: Topic Hierarchies based on synsets : 0.20048770292936396\n",
            "Distributing Text Mining tasks with librAIry : 0.19985431123471717\n",
            "Potentially inappropriate medications in older adults living with HIV : 0.17039900581753123\n",
            "_____________________________________________________________________________________\n",
            "Enhancing Public Procurement in the European Union through Constructing and Exploiting an Integrated Knowledge Graph\n",
            "Enhancing Public Procurement in the European Union through Constructing and Exploiting an Integrated Knowledge Graph : 1.4837139644898307\n",
            "Distributing Text Mining tasks with librAIry : 0.39183285218636504\n",
            "Drugs4Covid: Making drug information available from scientific publications : 0.3732171597602699\n",
            "Legal Documents Retrieval Across Languages: Topic Hierarchies based on synsets : 0.3331136251656575\n",
            "Scalable Cross-lingual Document Similarity through Language-specific Concept Hierarchies : 0.310561932239061\n",
            "Cross-Evaluation of Term Extraction Tools by Measuring Terminological Saturation : 0.27306372824701103\n",
            "Large-Scale Semantic Exploration of Scientific Literature using Topic-based Hashing Algorithms : 0.26534563386299853\n",
            "Efficient Clustering from Distributions over Topics : 0.2562868132667542\n",
            "Semantic Saturation in Retrospective Text Document  Collections : 0.24264251866548192\n",
            "An initial Analysis of Topic-based Similarity among Scientific Documents based on their Rhetorical Discourse Parts : 0.20682010994052236\n",
            "Potentially inappropriate medications in older adults living with HIV : 0.16976166691537214\n",
            "_____________________________________________________________________________________\n",
            "Drugs4Covid: Making drug information available from scientific publications\n",
            "Drugs4Covid: Making drug information available from scientific publications : 1.4905934023043663\n",
            "Enhancing Public Procurement in the European Union through Constructing and Exploiting an Integrated Knowledge Graph : 0.37321715976027003\n",
            "Large-Scale Semantic Exploration of Scientific Literature using Topic-based Hashing Algorithms : 0.3728344424152453\n",
            "Potentially inappropriate medications in older adults living with HIV : 0.3416334805772873\n",
            "Distributing Text Mining tasks with librAIry : 0.32133293109332356\n",
            "Scalable Cross-lingual Document Similarity through Language-specific Concept Hierarchies : 0.26226510935273295\n",
            "An initial Analysis of Topic-based Similarity among Scientific Documents based on their Rhetorical Discourse Parts : 0.25932555903272503\n",
            "Efficient Clustering from Distributions over Topics : 0.2517966374457832\n",
            "Cross-Evaluation of Term Extraction Tools by Measuring Terminological Saturation : 0.24544624361459572\n",
            "Semantic Saturation in Retrospective Text Document  Collections : 0.22339615223226872\n",
            "Legal Documents Retrieval Across Languages: Topic Hierarchies based on synsets : 0.1818848873734153\n",
            "_____________________________________________________________________________________\n",
            "Distributing Text Mining tasks with librAIry\n",
            "Distributing Text Mining tasks with librAIry : 1.285982273332618\n",
            "Enhancing Public Procurement in the European Union through Constructing and Exploiting an Integrated Knowledge Graph : 0.3918328521863649\n",
            "Drugs4Covid: Making drug information available from scientific publications : 0.32133293109332367\n",
            "Efficient Clustering from Distributions over Topics : 0.28088396694260526\n",
            "Large-Scale Semantic Exploration of Scientific Literature using Topic-based Hashing Algorithms : 0.26603728471989563\n",
            "An initial Analysis of Topic-based Similarity among Scientific Documents based on their Rhetorical Discourse Parts : 0.2563706782600166\n",
            "Scalable Cross-lingual Document Similarity through Language-specific Concept Hierarchies : 0.24650635491321665\n",
            "Cross-Evaluation of Term Extraction Tools by Measuring Terminological Saturation : 0.1998543112347172\n",
            "Semantic Saturation in Retrospective Text Document  Collections : 0.13927060669151314\n",
            "Potentially inappropriate medications in older adults living with HIV : 0.13336680661131725\n",
            "Legal Documents Retrieval Across Languages: Topic Hierarchies based on synsets : 0.11994100931967001\n",
            "_____________________________________________________________________________________\n",
            "Large-Scale Semantic Exploration of Scientific Literature using Topic-based Hashing Algorithms\n",
            "Large-Scale Semantic Exploration of Scientific Literature using Topic-based Hashing Algorithms : 1.3267997932190807\n",
            "Scalable Cross-lingual Document Similarity through Language-specific Concept Hierarchies : 0.4588006533626001\n",
            "Efficient Clustering from Distributions over Topics : 0.4366419377966484\n",
            "Drugs4Covid: Making drug information available from scientific publications : 0.3728344424152452\n",
            "An initial Analysis of Topic-based Similarity among Scientific Documents based on their Rhetorical Discourse Parts : 0.2856077816885913\n",
            "Legal Documents Retrieval Across Languages: Topic Hierarchies based on synsets : 0.2833193168802665\n",
            "Distributing Text Mining tasks with librAIry : 0.2660372847198955\n",
            "Enhancing Public Procurement in the European Union through Constructing and Exploiting an Integrated Knowledge Graph : 0.26534563386299864\n",
            "Cross-Evaluation of Term Extraction Tools by Measuring Terminological Saturation : 0.22932127075368486\n",
            "Potentially inappropriate medications in older adults living with HIV : 0.19636643598597942\n",
            "Semantic Saturation in Retrospective Text Document  Collections : 0.17452261475774067\n",
            "_____________________________________________________________________________________\n",
            "An initial Analysis of Topic-based Similarity among Scientific Documents based on their Rhetorical Discourse Parts\n",
            "An initial Analysis of Topic-based Similarity among Scientific Documents based on their Rhetorical Discourse Parts : 0.8907359259857238\n",
            "Efficient Clustering from Distributions over Topics : 0.2961175443223074\n",
            "Large-Scale Semantic Exploration of Scientific Literature using Topic-based Hashing Algorithms : 0.28560778168859147\n",
            "Drugs4Covid: Making drug information available from scientific publications : 0.2593255590327249\n",
            "Distributing Text Mining tasks with librAIry : 0.2563706782600168\n",
            "Scalable Cross-lingual Document Similarity through Language-specific Concept Hierarchies : 0.24276375622889146\n",
            "Enhancing Public Procurement in the European Union through Constructing and Exploiting an Integrated Knowledge Graph : 0.20682010994052225\n",
            "Cross-Evaluation of Term Extraction Tools by Measuring Terminological Saturation : 0.20299079129135497\n",
            "Semantic Saturation in Retrospective Text Document  Collections : 0.18129450805530362\n",
            "Legal Documents Retrieval Across Languages: Topic Hierarchies based on synsets : 0.12914728498365677\n",
            "Potentially inappropriate medications in older adults living with HIV : 0.116672085959124\n",
            "_____________________________________________________________________________________\n",
            "Efficient Clustering from Distributions over Topics\n",
            "Efficient Clustering from Distributions over Topics : 1.203005568797316\n",
            "Large-Scale Semantic Exploration of Scientific Literature using Topic-based Hashing Algorithms : 0.4366419377966484\n",
            "Scalable Cross-lingual Document Similarity through Language-specific Concept Hierarchies : 0.41690603452241776\n",
            "An initial Analysis of Topic-based Similarity among Scientific Documents based on their Rhetorical Discourse Parts : 0.2961175443223074\n",
            "Distributing Text Mining tasks with librAIry : 0.2808839669426053\n",
            "Enhancing Public Procurement in the European Union through Constructing and Exploiting an Integrated Knowledge Graph : 0.25628681326675395\n",
            "Drugs4Covid: Making drug information available from scientific publications : 0.2517966374457829\n",
            "Legal Documents Retrieval Across Languages: Topic Hierarchies based on synsets : 0.21488555338776533\n",
            "Cross-Evaluation of Term Extraction Tools by Measuring Terminological Saturation : 0.21369515001332873\n",
            "Semantic Saturation in Retrospective Text Document  Collections : 0.16478003822631948\n",
            "Potentially inappropriate medications in older adults living with HIV : 0.13531840763367053\n",
            "_____________________________________________________________________________________\n",
            "Legal Documents Retrieval Across Languages: Topic Hierarchies based on synsets\n",
            "Legal Documents Retrieval Across Languages: Topic Hierarchies based on synsets : 0.9433334535030895\n",
            "Scalable Cross-lingual Document Similarity through Language-specific Concept Hierarchies : 0.6119710666492545\n",
            "Enhancing Public Procurement in the European Union through Constructing and Exploiting an Integrated Knowledge Graph : 0.3331136251656573\n",
            "Large-Scale Semantic Exploration of Scientific Literature using Topic-based Hashing Algorithms : 0.2833193168802666\n",
            "Efficient Clustering from Distributions over Topics : 0.21488555338776522\n",
            "Cross-Evaluation of Term Extraction Tools by Measuring Terminological Saturation : 0.200487702929364\n",
            "Drugs4Covid: Making drug information available from scientific publications : 0.18188488737341532\n",
            "An initial Analysis of Topic-based Similarity among Scientific Documents based on their Rhetorical Discourse Parts : 0.12914728498365677\n",
            "Distributing Text Mining tasks with librAIry : 0.11994100931966999\n",
            "Semantic Saturation in Retrospective Text Document  Collections : 0.11402971950153362\n",
            "Potentially inappropriate medications in older adults living with HIV : 0.052916042390283004\n",
            "_____________________________________________________________________________________\n",
            "Scalable Cross-lingual Document Similarity through Language-specific Concept Hierarchies\n",
            "Scalable Cross-lingual Document Similarity through Language-specific Concept Hierarchies : 1.1946275039866954\n",
            "Legal Documents Retrieval Across Languages: Topic Hierarchies based on synsets : 0.6119710666492546\n",
            "Large-Scale Semantic Exploration of Scientific Literature using Topic-based Hashing Algorithms : 0.4588006533626002\n",
            "Efficient Clustering from Distributions over Topics : 0.41690603452241765\n",
            "Enhancing Public Procurement in the European Union through Constructing and Exploiting an Integrated Knowledge Graph : 0.31056193223906137\n",
            "Drugs4Covid: Making drug information available from scientific publications : 0.2622651093527328\n",
            "Distributing Text Mining tasks with librAIry : 0.2465063549132167\n",
            "An initial Analysis of Topic-based Similarity among Scientific Documents based on their Rhetorical Discourse Parts : 0.24276375622889146\n",
            "Cross-Evaluation of Term Extraction Tools by Measuring Terminological Saturation : 0.20896840660942323\n",
            "Semantic Saturation in Retrospective Text Document  Collections : 0.1276973180469855\n",
            "Potentially inappropriate medications in older adults living with HIV : 0.09685852163855808\n",
            "_____________________________________________________________________________________\n",
            "Potentially inappropriate medications in older adults living with HIV\n",
            "Potentially inappropriate medications in older adults living with HIV : 2.2532069693823513\n",
            "Drugs4Covid: Making drug information available from scientific publications : 0.3416334805772875\n",
            "Large-Scale Semantic Exploration of Scientific Literature using Topic-based Hashing Algorithms : 0.1963664359859794\n",
            "Cross-Evaluation of Term Extraction Tools by Measuring Terminological Saturation : 0.17039900581753117\n",
            "Enhancing Public Procurement in the European Union through Constructing and Exploiting an Integrated Knowledge Graph : 0.16976166691537217\n",
            "Efficient Clustering from Distributions over Topics : 0.1353184076336706\n",
            "Distributing Text Mining tasks with librAIry : 0.13336680661131733\n",
            "An initial Analysis of Topic-based Similarity among Scientific Documents based on their Rhetorical Discourse Parts : 0.11667208595912398\n",
            "Semantic Saturation in Retrospective Text Document  Collections : 0.11404546404352979\n",
            "Scalable Cross-lingual Document Similarity through Language-specific Concept Hierarchies : 0.09685852163855814\n",
            "Legal Documents Retrieval Across Languages: Topic Hierarchies based on synsets : 0.05291604239028301\n",
            "_____________________________________________________________________________________\n",
            "Semantic Saturation in Retrospective Text Document  Collections\n",
            "Semantic Saturation in Retrospective Text Document  Collections : 1.3198729238843019\n",
            "Cross-Evaluation of Term Extraction Tools by Measuring Terminological Saturation : 0.6024896789620394\n",
            "Enhancing Public Procurement in the European Union through Constructing and Exploiting an Integrated Knowledge Graph : 0.24264251866548198\n",
            "Drugs4Covid: Making drug information available from scientific publications : 0.2233961522322687\n",
            "An initial Analysis of Topic-based Similarity among Scientific Documents based on their Rhetorical Discourse Parts : 0.18129450805530364\n",
            "Large-Scale Semantic Exploration of Scientific Literature using Topic-based Hashing Algorithms : 0.17452261475774059\n",
            "Efficient Clustering from Distributions over Topics : 0.16478003822631943\n",
            "Distributing Text Mining tasks with librAIry : 0.13927060669151314\n",
            "Scalable Cross-lingual Document Similarity through Language-specific Concept Hierarchies : 0.12769731804698548\n",
            "Potentially inappropriate medications in older adults living with HIV : 0.11404546404352982\n",
            "Legal Documents Retrieval Across Languages: Topic Hierarchies based on synsets : 0.11402971950153357\n",
            "_____________________________________________________________________________________\n"
          ],
          "name": "stdout"
        }
      ]
    }
  ]
}